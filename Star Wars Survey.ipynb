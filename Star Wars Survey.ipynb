{
 "cells": [
  {
   "cell_type": "markdown",
   "metadata": {
    "collapsed": true
   },
   "source": [
    "# Project: Star Wars Survey Data Exploration\n",
    "\n",
    "In this project we will explore the responses of 1186 American [Star Wars](https://en.wikipedia.org/wiki/Star_Wars) fans. The data was collected by [FiveThirtyEight](https://fivethirtyeight.com/) team using the online tool [SurveyMonkey](https://www.surveymonkey.com/mp/audience/). The data set is downloadable from [FiveThirtyEight GitHub repository](https://github.com/fivethirtyeight/data/tree/master/star-wars-survey). It has several columns, including:\n",
    "\n",
    "* **`RespondentID`** : An anonymized ID for the respondent (person taking the survey)\n",
    "* **`Gender`** : The respondent's gender\n",
    "* **`Age`** : The respondent's age\n",
    "* **`Household Income`** : The respondent's income\n",
    "* **`Education`** : The respondent's education level\n",
    "* **`Location (Census Region)`** : The respondent's location\n",
    "* **`Have you seen any of the 6 films in the Star Wars franchise?`** : Has a Yes or No response\n",
    "* **`Do you consider yourself to be a fan of the Star Wars film franchise?`** : Has a Yes or No response"
   ]
  },
  {
   "cell_type": "markdown",
   "metadata": {},
   "source": [
    "## Importing Libraries"
   ]
  },
  {
   "cell_type": "code",
   "execution_count": 1,
   "metadata": {
    "collapsed": true
   },
   "outputs": [],
   "source": [
    "import numpy as np \n",
    "import pandas as pd\n",
    "import matplotlib.pyplot as plt\n",
    "%matplotlib inline"
   ]
  },
  {
   "cell_type": "markdown",
   "metadata": {},
   "source": [
    "## Importing the dataset"
   ]
  },
  {
   "cell_type": "code",
   "execution_count": 2,
   "metadata": {
    "collapsed": false
   },
   "outputs": [
    {
     "name": "stdout",
     "output_type": "stream",
     "text": [
      "<class 'pandas.core.frame.DataFrame'>\n",
      "RangeIndex: 1187 entries, 0 to 1186\n",
      "Data columns (total 38 columns):\n",
      "RespondentID                                                                                                                                     1186 non-null float64\n",
      "Have you seen any of the 6 films in the Star Wars franchise?                                                                                     1187 non-null object\n",
      "Do you consider yourself to be a fan of the Star Wars film franchise?                                                                            837 non-null object\n",
      "Which of the following Star Wars films have you seen? Please select all that apply.                                                              674 non-null object\n",
      "Unnamed: 4                                                                                                                                       572 non-null object\n",
      "Unnamed: 5                                                                                                                                       551 non-null object\n",
      "Unnamed: 6                                                                                                                                       608 non-null object\n",
      "Unnamed: 7                                                                                                                                       759 non-null object\n",
      "Unnamed: 8                                                                                                                                       739 non-null object\n",
      "Please rank the Star Wars films in order of preference with 1 being your favorite film in the franchise and 6 being your least favorite film.    836 non-null object\n",
      "Unnamed: 10                                                                                                                                      837 non-null object\n",
      "Unnamed: 11                                                                                                                                      836 non-null object\n",
      "Unnamed: 12                                                                                                                                      837 non-null object\n",
      "Unnamed: 13                                                                                                                                      837 non-null object\n",
      "Unnamed: 14                                                                                                                                      837 non-null object\n",
      "Please state whether you view the following characters favorably, unfavorably, or are unfamiliar with him/her.                                   830 non-null object\n",
      "Unnamed: 16                                                                                                                                      832 non-null object\n",
      "Unnamed: 17                                                                                                                                      832 non-null object\n",
      "Unnamed: 18                                                                                                                                      824 non-null object\n",
      "Unnamed: 19                                                                                                                                      826 non-null object\n",
      "Unnamed: 20                                                                                                                                      815 non-null object\n",
      "Unnamed: 21                                                                                                                                      827 non-null object\n",
      "Unnamed: 22                                                                                                                                      821 non-null object\n",
      "Unnamed: 23                                                                                                                                      813 non-null object\n",
      "Unnamed: 24                                                                                                                                      828 non-null object\n",
      "Unnamed: 25                                                                                                                                      831 non-null object\n",
      "Unnamed: 26                                                                                                                                      822 non-null object\n",
      "Unnamed: 27                                                                                                                                      815 non-null object\n",
      "Unnamed: 28                                                                                                                                      827 non-null object\n",
      "Which character shot first?                                                                                                                      829 non-null object\n",
      "Are you familiar with the Expanded Universe?                                                                                                     829 non-null object\n",
      "Do you consider yourself to be a fan of the Expanded Universe?ÂÃ¦                                                                               214 non-null object\n",
      "Do you consider yourself to be a fan of the Star Trek franchise?                                                                                 1069 non-null object\n",
      "Gender                                                                                                                                           1047 non-null object\n",
      "Age                                                                                                                                              1047 non-null object\n",
      "Household Income                                                                                                                                 859 non-null object\n",
      "Education                                                                                                                                        1037 non-null object\n",
      "Location (Census Region)                                                                                                                         1044 non-null object\n",
      "dtypes: float64(1), object(37)\n",
      "memory usage: 352.5+ KB\n"
     ]
    }
   ],
   "source": [
    "# We need to specify the \"ISO-8859-1\" encoding because the data set has some characters that aren't in Python's default \"utf-8\" encoding.\n",
    "star_wars = pd.read_csv(\"star_wars.csv\", encoding=\"ISO-8859-1\")\n",
    "star_wars.info()"
   ]
  },
  {
   "cell_type": "code",
   "execution_count": 3,
   "metadata": {
    "collapsed": false,
    "scrolled": true
   },
   "outputs": [
    {
     "data": {
      "text/html": [
       "<div>\n",
       "<style scoped>\n",
       "    .dataframe tbody tr th:only-of-type {\n",
       "        vertical-align: middle;\n",
       "    }\n",
       "\n",
       "    .dataframe tbody tr th {\n",
       "        vertical-align: top;\n",
       "    }\n",
       "\n",
       "    .dataframe thead th {\n",
       "        text-align: right;\n",
       "    }\n",
       "</style>\n",
       "<table border=\"1\" class=\"dataframe\">\n",
       "  <thead>\n",
       "    <tr style=\"text-align: right;\">\n",
       "      <th></th>\n",
       "      <th>RespondentID</th>\n",
       "      <th>Have you seen any of the 6 films in the Star Wars franchise?</th>\n",
       "      <th>Do you consider yourself to be a fan of the Star Wars film franchise?</th>\n",
       "      <th>Which of the following Star Wars films have you seen? Please select all that apply.</th>\n",
       "      <th>Unnamed: 4</th>\n",
       "      <th>Unnamed: 5</th>\n",
       "      <th>Unnamed: 6</th>\n",
       "      <th>Unnamed: 7</th>\n",
       "      <th>Unnamed: 8</th>\n",
       "      <th>Please rank the Star Wars films in order of preference with 1 being your favorite film in the franchise and 6 being your least favorite film.</th>\n",
       "      <th>...</th>\n",
       "      <th>Unnamed: 28</th>\n",
       "      <th>Which character shot first?</th>\n",
       "      <th>Are you familiar with the Expanded Universe?</th>\n",
       "      <th>Do you consider yourself to be a fan of the Expanded Universe?ÂÃ¦</th>\n",
       "      <th>Do you consider yourself to be a fan of the Star Trek franchise?</th>\n",
       "      <th>Gender</th>\n",
       "      <th>Age</th>\n",
       "      <th>Household Income</th>\n",
       "      <th>Education</th>\n",
       "      <th>Location (Census Region)</th>\n",
       "    </tr>\n",
       "  </thead>\n",
       "  <tbody>\n",
       "    <tr>\n",
       "      <th>0</th>\n",
       "      <td>NaN</td>\n",
       "      <td>Response</td>\n",
       "      <td>Response</td>\n",
       "      <td>Star Wars: Episode I  The Phantom Menace</td>\n",
       "      <td>Star Wars: Episode II  Attack of the Clones</td>\n",
       "      <td>Star Wars: Episode III  Revenge of the Sith</td>\n",
       "      <td>Star Wars: Episode IV  A New Hope</td>\n",
       "      <td>Star Wars: Episode V The Empire Strikes Back</td>\n",
       "      <td>Star Wars: Episode VI Return of the Jedi</td>\n",
       "      <td>Star Wars: Episode I  The Phantom Menace</td>\n",
       "      <td>...</td>\n",
       "      <td>Yoda</td>\n",
       "      <td>Response</td>\n",
       "      <td>Response</td>\n",
       "      <td>Response</td>\n",
       "      <td>Response</td>\n",
       "      <td>Response</td>\n",
       "      <td>Response</td>\n",
       "      <td>Response</td>\n",
       "      <td>Response</td>\n",
       "      <td>Response</td>\n",
       "    </tr>\n",
       "    <tr>\n",
       "      <th>1</th>\n",
       "      <td>3.292880e+09</td>\n",
       "      <td>Yes</td>\n",
       "      <td>Yes</td>\n",
       "      <td>Star Wars: Episode I  The Phantom Menace</td>\n",
       "      <td>Star Wars: Episode II  Attack of the Clones</td>\n",
       "      <td>Star Wars: Episode III  Revenge of the Sith</td>\n",
       "      <td>Star Wars: Episode IV  A New Hope</td>\n",
       "      <td>Star Wars: Episode V The Empire Strikes Back</td>\n",
       "      <td>Star Wars: Episode VI Return of the Jedi</td>\n",
       "      <td>3</td>\n",
       "      <td>...</td>\n",
       "      <td>Very favorably</td>\n",
       "      <td>I don't understand this question</td>\n",
       "      <td>Yes</td>\n",
       "      <td>No</td>\n",
       "      <td>No</td>\n",
       "      <td>Male</td>\n",
       "      <td>18-29</td>\n",
       "      <td>NaN</td>\n",
       "      <td>High school degree</td>\n",
       "      <td>South Atlantic</td>\n",
       "    </tr>\n",
       "    <tr>\n",
       "      <th>2</th>\n",
       "      <td>3.292880e+09</td>\n",
       "      <td>No</td>\n",
       "      <td>NaN</td>\n",
       "      <td>NaN</td>\n",
       "      <td>NaN</td>\n",
       "      <td>NaN</td>\n",
       "      <td>NaN</td>\n",
       "      <td>NaN</td>\n",
       "      <td>NaN</td>\n",
       "      <td>NaN</td>\n",
       "      <td>...</td>\n",
       "      <td>NaN</td>\n",
       "      <td>NaN</td>\n",
       "      <td>NaN</td>\n",
       "      <td>NaN</td>\n",
       "      <td>Yes</td>\n",
       "      <td>Male</td>\n",
       "      <td>18-29</td>\n",
       "      <td>$0 - $24,999</td>\n",
       "      <td>Bachelor degree</td>\n",
       "      <td>West South Central</td>\n",
       "    </tr>\n",
       "    <tr>\n",
       "      <th>3</th>\n",
       "      <td>3.292765e+09</td>\n",
       "      <td>Yes</td>\n",
       "      <td>No</td>\n",
       "      <td>Star Wars: Episode I  The Phantom Menace</td>\n",
       "      <td>Star Wars: Episode II  Attack of the Clones</td>\n",
       "      <td>Star Wars: Episode III  Revenge of the Sith</td>\n",
       "      <td>NaN</td>\n",
       "      <td>NaN</td>\n",
       "      <td>NaN</td>\n",
       "      <td>1</td>\n",
       "      <td>...</td>\n",
       "      <td>Unfamiliar (N/A)</td>\n",
       "      <td>I don't understand this question</td>\n",
       "      <td>No</td>\n",
       "      <td>NaN</td>\n",
       "      <td>No</td>\n",
       "      <td>Male</td>\n",
       "      <td>18-29</td>\n",
       "      <td>$0 - $24,999</td>\n",
       "      <td>High school degree</td>\n",
       "      <td>West North Central</td>\n",
       "    </tr>\n",
       "    <tr>\n",
       "      <th>4</th>\n",
       "      <td>3.292763e+09</td>\n",
       "      <td>Yes</td>\n",
       "      <td>Yes</td>\n",
       "      <td>Star Wars: Episode I  The Phantom Menace</td>\n",
       "      <td>Star Wars: Episode II  Attack of the Clones</td>\n",
       "      <td>Star Wars: Episode III  Revenge of the Sith</td>\n",
       "      <td>Star Wars: Episode IV  A New Hope</td>\n",
       "      <td>Star Wars: Episode V The Empire Strikes Back</td>\n",
       "      <td>Star Wars: Episode VI Return of the Jedi</td>\n",
       "      <td>5</td>\n",
       "      <td>...</td>\n",
       "      <td>Very favorably</td>\n",
       "      <td>I don't understand this question</td>\n",
       "      <td>No</td>\n",
       "      <td>NaN</td>\n",
       "      <td>Yes</td>\n",
       "      <td>Male</td>\n",
       "      <td>18-29</td>\n",
       "      <td>$100,000 - $149,999</td>\n",
       "      <td>Some college or Associate degree</td>\n",
       "      <td>West North Central</td>\n",
       "    </tr>\n",
       "    <tr>\n",
       "      <th>5</th>\n",
       "      <td>3.292731e+09</td>\n",
       "      <td>Yes</td>\n",
       "      <td>Yes</td>\n",
       "      <td>Star Wars: Episode I  The Phantom Menace</td>\n",
       "      <td>Star Wars: Episode II  Attack of the Clones</td>\n",
       "      <td>Star Wars: Episode III  Revenge of the Sith</td>\n",
       "      <td>Star Wars: Episode IV  A New Hope</td>\n",
       "      <td>Star Wars: Episode V The Empire Strikes Back</td>\n",
       "      <td>Star Wars: Episode VI Return of the Jedi</td>\n",
       "      <td>5</td>\n",
       "      <td>...</td>\n",
       "      <td>Somewhat favorably</td>\n",
       "      <td>Greedo</td>\n",
       "      <td>Yes</td>\n",
       "      <td>No</td>\n",
       "      <td>No</td>\n",
       "      <td>Male</td>\n",
       "      <td>18-29</td>\n",
       "      <td>$100,000 - $149,999</td>\n",
       "      <td>Some college or Associate degree</td>\n",
       "      <td>West North Central</td>\n",
       "    </tr>\n",
       "    <tr>\n",
       "      <th>6</th>\n",
       "      <td>3.292719e+09</td>\n",
       "      <td>Yes</td>\n",
       "      <td>Yes</td>\n",
       "      <td>Star Wars: Episode I  The Phantom Menace</td>\n",
       "      <td>Star Wars: Episode II  Attack of the Clones</td>\n",
       "      <td>Star Wars: Episode III  Revenge of the Sith</td>\n",
       "      <td>Star Wars: Episode IV  A New Hope</td>\n",
       "      <td>Star Wars: Episode V The Empire Strikes Back</td>\n",
       "      <td>Star Wars: Episode VI Return of the Jedi</td>\n",
       "      <td>1</td>\n",
       "      <td>...</td>\n",
       "      <td>Very favorably</td>\n",
       "      <td>Han</td>\n",
       "      <td>Yes</td>\n",
       "      <td>No</td>\n",
       "      <td>Yes</td>\n",
       "      <td>Male</td>\n",
       "      <td>18-29</td>\n",
       "      <td>$25,000 - $49,999</td>\n",
       "      <td>Bachelor degree</td>\n",
       "      <td>Middle Atlantic</td>\n",
       "    </tr>\n",
       "    <tr>\n",
       "      <th>7</th>\n",
       "      <td>3.292685e+09</td>\n",
       "      <td>Yes</td>\n",
       "      <td>Yes</td>\n",
       "      <td>Star Wars: Episode I  The Phantom Menace</td>\n",
       "      <td>Star Wars: Episode II  Attack of the Clones</td>\n",
       "      <td>Star Wars: Episode III  Revenge of the Sith</td>\n",
       "      <td>Star Wars: Episode IV  A New Hope</td>\n",
       "      <td>Star Wars: Episode V The Empire Strikes Back</td>\n",
       "      <td>Star Wars: Episode VI Return of the Jedi</td>\n",
       "      <td>6</td>\n",
       "      <td>...</td>\n",
       "      <td>Very favorably</td>\n",
       "      <td>Han</td>\n",
       "      <td>Yes</td>\n",
       "      <td>No</td>\n",
       "      <td>No</td>\n",
       "      <td>Male</td>\n",
       "      <td>18-29</td>\n",
       "      <td>NaN</td>\n",
       "      <td>High school degree</td>\n",
       "      <td>East North Central</td>\n",
       "    </tr>\n",
       "    <tr>\n",
       "      <th>8</th>\n",
       "      <td>3.292664e+09</td>\n",
       "      <td>Yes</td>\n",
       "      <td>Yes</td>\n",
       "      <td>Star Wars: Episode I  The Phantom Menace</td>\n",
       "      <td>Star Wars: Episode II  Attack of the Clones</td>\n",
       "      <td>Star Wars: Episode III  Revenge of the Sith</td>\n",
       "      <td>Star Wars: Episode IV  A New Hope</td>\n",
       "      <td>Star Wars: Episode V The Empire Strikes Back</td>\n",
       "      <td>Star Wars: Episode VI Return of the Jedi</td>\n",
       "      <td>4</td>\n",
       "      <td>...</td>\n",
       "      <td>Very favorably</td>\n",
       "      <td>Han</td>\n",
       "      <td>No</td>\n",
       "      <td>NaN</td>\n",
       "      <td>Yes</td>\n",
       "      <td>Male</td>\n",
       "      <td>18-29</td>\n",
       "      <td>NaN</td>\n",
       "      <td>High school degree</td>\n",
       "      <td>South Atlantic</td>\n",
       "    </tr>\n",
       "    <tr>\n",
       "      <th>9</th>\n",
       "      <td>3.292654e+09</td>\n",
       "      <td>Yes</td>\n",
       "      <td>Yes</td>\n",
       "      <td>Star Wars: Episode I  The Phantom Menace</td>\n",
       "      <td>Star Wars: Episode II  Attack of the Clones</td>\n",
       "      <td>Star Wars: Episode III  Revenge of the Sith</td>\n",
       "      <td>Star Wars: Episode IV  A New Hope</td>\n",
       "      <td>Star Wars: Episode V The Empire Strikes Back</td>\n",
       "      <td>Star Wars: Episode VI Return of the Jedi</td>\n",
       "      <td>5</td>\n",
       "      <td>...</td>\n",
       "      <td>Somewhat favorably</td>\n",
       "      <td>Han</td>\n",
       "      <td>No</td>\n",
       "      <td>NaN</td>\n",
       "      <td>No</td>\n",
       "      <td>Male</td>\n",
       "      <td>18-29</td>\n",
       "      <td>$0 - $24,999</td>\n",
       "      <td>Some college or Associate degree</td>\n",
       "      <td>South Atlantic</td>\n",
       "    </tr>\n",
       "  </tbody>\n",
       "</table>\n",
       "<p>10 rows × 38 columns</p>\n",
       "</div>"
      ],
      "text/plain": [
       "   RespondentID Have you seen any of the 6 films in the Star Wars franchise?  \\\n",
       "0           NaN                                           Response             \n",
       "1  3.292880e+09                                                Yes             \n",
       "2  3.292880e+09                                                 No             \n",
       "3  3.292765e+09                                                Yes             \n",
       "4  3.292763e+09                                                Yes             \n",
       "5  3.292731e+09                                                Yes             \n",
       "6  3.292719e+09                                                Yes             \n",
       "7  3.292685e+09                                                Yes             \n",
       "8  3.292664e+09                                                Yes             \n",
       "9  3.292654e+09                                                Yes             \n",
       "\n",
       "  Do you consider yourself to be a fan of the Star Wars film franchise?  \\\n",
       "0                                           Response                      \n",
       "1                                                Yes                      \n",
       "2                                                NaN                      \n",
       "3                                                 No                      \n",
       "4                                                Yes                      \n",
       "5                                                Yes                      \n",
       "6                                                Yes                      \n",
       "7                                                Yes                      \n",
       "8                                                Yes                      \n",
       "9                                                Yes                      \n",
       "\n",
       "  Which of the following Star Wars films have you seen? Please select all that apply.  \\\n",
       "0           Star Wars: Episode I  The Phantom Menace                                    \n",
       "1           Star Wars: Episode I  The Phantom Menace                                    \n",
       "2                                                NaN                                    \n",
       "3           Star Wars: Episode I  The Phantom Menace                                    \n",
       "4           Star Wars: Episode I  The Phantom Menace                                    \n",
       "5           Star Wars: Episode I  The Phantom Menace                                    \n",
       "6           Star Wars: Episode I  The Phantom Menace                                    \n",
       "7           Star Wars: Episode I  The Phantom Menace                                    \n",
       "8           Star Wars: Episode I  The Phantom Menace                                    \n",
       "9           Star Wars: Episode I  The Phantom Menace                                    \n",
       "\n",
       "                                    Unnamed: 4  \\\n",
       "0  Star Wars: Episode II  Attack of the Clones   \n",
       "1  Star Wars: Episode II  Attack of the Clones   \n",
       "2                                          NaN   \n",
       "3  Star Wars: Episode II  Attack of the Clones   \n",
       "4  Star Wars: Episode II  Attack of the Clones   \n",
       "5  Star Wars: Episode II  Attack of the Clones   \n",
       "6  Star Wars: Episode II  Attack of the Clones   \n",
       "7  Star Wars: Episode II  Attack of the Clones   \n",
       "8  Star Wars: Episode II  Attack of the Clones   \n",
       "9  Star Wars: Episode II  Attack of the Clones   \n",
       "\n",
       "                                    Unnamed: 5  \\\n",
       "0  Star Wars: Episode III  Revenge of the Sith   \n",
       "1  Star Wars: Episode III  Revenge of the Sith   \n",
       "2                                          NaN   \n",
       "3  Star Wars: Episode III  Revenge of the Sith   \n",
       "4  Star Wars: Episode III  Revenge of the Sith   \n",
       "5  Star Wars: Episode III  Revenge of the Sith   \n",
       "6  Star Wars: Episode III  Revenge of the Sith   \n",
       "7  Star Wars: Episode III  Revenge of the Sith   \n",
       "8  Star Wars: Episode III  Revenge of the Sith   \n",
       "9  Star Wars: Episode III  Revenge of the Sith   \n",
       "\n",
       "                          Unnamed: 6  \\\n",
       "0  Star Wars: Episode IV  A New Hope   \n",
       "1  Star Wars: Episode IV  A New Hope   \n",
       "2                                NaN   \n",
       "3                                NaN   \n",
       "4  Star Wars: Episode IV  A New Hope   \n",
       "5  Star Wars: Episode IV  A New Hope   \n",
       "6  Star Wars: Episode IV  A New Hope   \n",
       "7  Star Wars: Episode IV  A New Hope   \n",
       "8  Star Wars: Episode IV  A New Hope   \n",
       "9  Star Wars: Episode IV  A New Hope   \n",
       "\n",
       "                                     Unnamed: 7  \\\n",
       "0  Star Wars: Episode V The Empire Strikes Back   \n",
       "1  Star Wars: Episode V The Empire Strikes Back   \n",
       "2                                           NaN   \n",
       "3                                           NaN   \n",
       "4  Star Wars: Episode V The Empire Strikes Back   \n",
       "5  Star Wars: Episode V The Empire Strikes Back   \n",
       "6  Star Wars: Episode V The Empire Strikes Back   \n",
       "7  Star Wars: Episode V The Empire Strikes Back   \n",
       "8  Star Wars: Episode V The Empire Strikes Back   \n",
       "9  Star Wars: Episode V The Empire Strikes Back   \n",
       "\n",
       "                                 Unnamed: 8  \\\n",
       "0  Star Wars: Episode VI Return of the Jedi   \n",
       "1  Star Wars: Episode VI Return of the Jedi   \n",
       "2                                       NaN   \n",
       "3                                       NaN   \n",
       "4  Star Wars: Episode VI Return of the Jedi   \n",
       "5  Star Wars: Episode VI Return of the Jedi   \n",
       "6  Star Wars: Episode VI Return of the Jedi   \n",
       "7  Star Wars: Episode VI Return of the Jedi   \n",
       "8  Star Wars: Episode VI Return of the Jedi   \n",
       "9  Star Wars: Episode VI Return of the Jedi   \n",
       "\n",
       "  Please rank the Star Wars films in order of preference with 1 being your favorite film in the franchise and 6 being your least favorite film.  \\\n",
       "0           Star Wars: Episode I  The Phantom Menace                                                                                              \n",
       "1                                                  3                                                                                              \n",
       "2                                                NaN                                                                                              \n",
       "3                                                  1                                                                                              \n",
       "4                                                  5                                                                                              \n",
       "5                                                  5                                                                                              \n",
       "6                                                  1                                                                                              \n",
       "7                                                  6                                                                                              \n",
       "8                                                  4                                                                                              \n",
       "9                                                  5                                                                                              \n",
       "\n",
       "            ...                    Unnamed: 28  \\\n",
       "0           ...                           Yoda   \n",
       "1           ...                 Very favorably   \n",
       "2           ...                            NaN   \n",
       "3           ...               Unfamiliar (N/A)   \n",
       "4           ...                 Very favorably   \n",
       "5           ...             Somewhat favorably   \n",
       "6           ...                 Very favorably   \n",
       "7           ...                 Very favorably   \n",
       "8           ...                 Very favorably   \n",
       "9           ...             Somewhat favorably   \n",
       "\n",
       "        Which character shot first?  \\\n",
       "0                          Response   \n",
       "1  I don't understand this question   \n",
       "2                               NaN   \n",
       "3  I don't understand this question   \n",
       "4  I don't understand this question   \n",
       "5                            Greedo   \n",
       "6                               Han   \n",
       "7                               Han   \n",
       "8                               Han   \n",
       "9                               Han   \n",
       "\n",
       "  Are you familiar with the Expanded Universe?  \\\n",
       "0                                     Response   \n",
       "1                                          Yes   \n",
       "2                                          NaN   \n",
       "3                                           No   \n",
       "4                                           No   \n",
       "5                                          Yes   \n",
       "6                                          Yes   \n",
       "7                                          Yes   \n",
       "8                                           No   \n",
       "9                                           No   \n",
       "\n",
       "  Do you consider yourself to be a fan of the Expanded Universe?ÂÃ¦  \\\n",
       "0                                           Response                   \n",
       "1                                                 No                   \n",
       "2                                                NaN                   \n",
       "3                                                NaN                   \n",
       "4                                                NaN                   \n",
       "5                                                 No                   \n",
       "6                                                 No                   \n",
       "7                                                 No                   \n",
       "8                                                NaN                   \n",
       "9                                                NaN                   \n",
       "\n",
       "  Do you consider yourself to be a fan of the Star Trek franchise?    Gender  \\\n",
       "0                                           Response                Response   \n",
       "1                                                 No                    Male   \n",
       "2                                                Yes                    Male   \n",
       "3                                                 No                    Male   \n",
       "4                                                Yes                    Male   \n",
       "5                                                 No                    Male   \n",
       "6                                                Yes                    Male   \n",
       "7                                                 No                    Male   \n",
       "8                                                Yes                    Male   \n",
       "9                                                 No                    Male   \n",
       "\n",
       "        Age     Household Income                         Education  \\\n",
       "0  Response             Response                          Response   \n",
       "1     18-29                  NaN                High school degree   \n",
       "2     18-29         $0 - $24,999                   Bachelor degree   \n",
       "3     18-29         $0 - $24,999                High school degree   \n",
       "4     18-29  $100,000 - $149,999  Some college or Associate degree   \n",
       "5     18-29  $100,000 - $149,999  Some college or Associate degree   \n",
       "6     18-29    $25,000 - $49,999                   Bachelor degree   \n",
       "7     18-29                  NaN                High school degree   \n",
       "8     18-29                  NaN                High school degree   \n",
       "9     18-29         $0 - $24,999  Some college or Associate degree   \n",
       "\n",
       "  Location (Census Region)  \n",
       "0                 Response  \n",
       "1           South Atlantic  \n",
       "2       West South Central  \n",
       "3       West North Central  \n",
       "4       West North Central  \n",
       "5       West North Central  \n",
       "6          Middle Atlantic  \n",
       "7       East North Central  \n",
       "8           South Atlantic  \n",
       "9           South Atlantic  \n",
       "\n",
       "[10 rows x 38 columns]"
      ]
     },
     "execution_count": 3,
     "metadata": {},
     "output_type": "execute_result"
    }
   ],
   "source": [
    "star_wars.head(10)"
   ]
  },
  {
   "cell_type": "markdown",
   "metadata": {},
   "source": [
    "## Data Cleaning"
   ]
  },
  {
   "cell_type": "code",
   "execution_count": 4,
   "metadata": {
    "collapsed": false
   },
   "outputs": [
    {
     "data": {
      "text/plain": [
       "Index(['RespondentID',\n",
       "       'Have you seen any of the 6 films in the Star Wars franchise?',\n",
       "       'Do you consider yourself to be a fan of the Star Wars film franchise?',\n",
       "       'Which of the following Star Wars films have you seen? Please select all that apply.',\n",
       "       'Unnamed: 4', 'Unnamed: 5', 'Unnamed: 6', 'Unnamed: 7', 'Unnamed: 8',\n",
       "       'Please rank the Star Wars films in order of preference with 1 being your favorite film in the franchise and 6 being your least favorite film.',\n",
       "       'Unnamed: 10', 'Unnamed: 11', 'Unnamed: 12', 'Unnamed: 13',\n",
       "       'Unnamed: 14',\n",
       "       'Please state whether you view the following characters favorably, unfavorably, or are unfamiliar with him/her.',\n",
       "       'Unnamed: 16', 'Unnamed: 17', 'Unnamed: 18', 'Unnamed: 19',\n",
       "       'Unnamed: 20', 'Unnamed: 21', 'Unnamed: 22', 'Unnamed: 23',\n",
       "       'Unnamed: 24', 'Unnamed: 25', 'Unnamed: 26', 'Unnamed: 27',\n",
       "       'Unnamed: 28', 'Which character shot first?',\n",
       "       'Are you familiar with the Expanded Universe?',\n",
       "       'Do you consider yourself to be a fan of the Expanded Universe?ÂÃ¦',\n",
       "       'Do you consider yourself to be a fan of the Star Trek franchise?',\n",
       "       'Gender', 'Age', 'Household Income', 'Education',\n",
       "       'Location (Census Region)'],\n",
       "      dtype='object')"
      ]
     },
     "execution_count": 4,
     "metadata": {},
     "output_type": "execute_result"
    }
   ],
   "source": [
    "# inspecting the names of columns\n",
    "star_wars.columns"
   ]
  },
  {
   "cell_type": "code",
   "execution_count": 5,
   "metadata": {
    "collapsed": false
   },
   "outputs": [
    {
     "data": {
      "text/plain": [
       "45-60       291\n",
       "> 60        269\n",
       "30-44       268\n",
       "18-29       218\n",
       "NaN         140\n",
       "Response      1\n",
       "Name: Age, dtype: int64"
      ]
     },
     "execution_count": 5,
     "metadata": {},
     "output_type": "execute_result"
    }
   ],
   "source": [
    "# inspecting unique values in 'Age'\n",
    "star_wars['Age'].value_counts(dropna=False)"
   ]
  },
  {
   "cell_type": "code",
   "execution_count": 6,
   "metadata": {
    "collapsed": false
   },
   "outputs": [
    {
     "data": {
      "text/plain": [
       "Female      549\n",
       "Male        497\n",
       "NaN         140\n",
       "Response      1\n",
       "Name: Gender, dtype: int64"
      ]
     },
     "execution_count": 6,
     "metadata": {},
     "output_type": "execute_result"
    }
   ],
   "source": [
    "# inspecting unique values in 'Gender'\n",
    "star_wars['Gender'].value_counts(dropna=False)"
   ]
  },
  {
   "cell_type": "code",
   "execution_count": 7,
   "metadata": {
    "collapsed": false
   },
   "outputs": [
    {
     "data": {
      "text/plain": [
       "Some college or Associate degree    328\n",
       "Bachelor degree                     321\n",
       "Graduate degree                     275\n",
       "NaN                                 150\n",
       "High school degree                  105\n",
       "Less than high school degree          7\n",
       "Response                              1\n",
       "Name: Education, dtype: int64"
      ]
     },
     "execution_count": 7,
     "metadata": {},
     "output_type": "execute_result"
    }
   ],
   "source": [
    "# inspecting unique values in 'Education'\n",
    "star_wars['Education'].value_counts(dropna=False)"
   ]
  },
  {
   "cell_type": "code",
   "execution_count": 8,
   "metadata": {
    "collapsed": false
   },
   "outputs": [
    {
     "data": {
      "text/plain": [
       "NaN                    328\n",
       "$50,000 - $99,999      298\n",
       "$25,000 - $49,999      186\n",
       "$100,000 - $149,999    141\n",
       "$0 - $24,999           138\n",
       "$150,000+               95\n",
       "Response                 1\n",
       "Name: Household Income, dtype: int64"
      ]
     },
     "execution_count": 8,
     "metadata": {},
     "output_type": "execute_result"
    }
   ],
   "source": [
    "# inspecting unique values in 'Household Income'\n",
    "star_wars['Household Income'].value_counts(dropna=False)"
   ]
  },
  {
   "cell_type": "code",
   "execution_count": 9,
   "metadata": {
    "collapsed": false
   },
   "outputs": [
    {
     "data": {
      "text/plain": [
       "East North Central    181\n",
       "Pacific               175\n",
       "South Atlantic        170\n",
       "NaN                   143\n",
       "Middle Atlantic       122\n",
       "West South Central    110\n",
       "West North Central     93\n",
       "Mountain               79\n",
       "New England            75\n",
       "East South Central     38\n",
       "Response                1\n",
       "Name: Location (Census Region), dtype: int64"
      ]
     },
     "execution_count": 9,
     "metadata": {},
     "output_type": "execute_result"
    }
   ],
   "source": [
    "# inspecting unique values in 'Location (Census Region)'\n",
    "star_wars['Location (Census Region)'].value_counts(dropna=False)"
   ]
  },
  {
   "cell_type": "markdown",
   "metadata": {},
   "source": [
    "There is a common value between all the columns we have seen above which is `'Response'`, let's check this out deeply."
   ]
  },
  {
   "cell_type": "markdown",
   "metadata": {},
   "source": [
    "#### Investigating the row that contains 'Response'"
   ]
  },
  {
   "cell_type": "code",
   "execution_count": 10,
   "metadata": {
    "collapsed": false
   },
   "outputs": [
    {
     "data": {
      "text/html": [
       "<div>\n",
       "<style scoped>\n",
       "    .dataframe tbody tr th:only-of-type {\n",
       "        vertical-align: middle;\n",
       "    }\n",
       "\n",
       "    .dataframe tbody tr th {\n",
       "        vertical-align: top;\n",
       "    }\n",
       "\n",
       "    .dataframe thead th {\n",
       "        text-align: right;\n",
       "    }\n",
       "</style>\n",
       "<table border=\"1\" class=\"dataframe\">\n",
       "  <thead>\n",
       "    <tr style=\"text-align: right;\">\n",
       "      <th></th>\n",
       "      <th>RespondentID</th>\n",
       "      <th>Have you seen any of the 6 films in the Star Wars franchise?</th>\n",
       "      <th>Do you consider yourself to be a fan of the Star Wars film franchise?</th>\n",
       "      <th>Which of the following Star Wars films have you seen? Please select all that apply.</th>\n",
       "      <th>Unnamed: 4</th>\n",
       "      <th>Unnamed: 5</th>\n",
       "      <th>Unnamed: 6</th>\n",
       "      <th>Unnamed: 7</th>\n",
       "      <th>Unnamed: 8</th>\n",
       "      <th>Please rank the Star Wars films in order of preference with 1 being your favorite film in the franchise and 6 being your least favorite film.</th>\n",
       "      <th>...</th>\n",
       "      <th>Unnamed: 28</th>\n",
       "      <th>Which character shot first?</th>\n",
       "      <th>Are you familiar with the Expanded Universe?</th>\n",
       "      <th>Do you consider yourself to be a fan of the Expanded Universe?ÂÃ¦</th>\n",
       "      <th>Do you consider yourself to be a fan of the Star Trek franchise?</th>\n",
       "      <th>Gender</th>\n",
       "      <th>Age</th>\n",
       "      <th>Household Income</th>\n",
       "      <th>Education</th>\n",
       "      <th>Location (Census Region)</th>\n",
       "    </tr>\n",
       "  </thead>\n",
       "  <tbody>\n",
       "    <tr>\n",
       "      <th>0</th>\n",
       "      <td>NaN</td>\n",
       "      <td>Response</td>\n",
       "      <td>Response</td>\n",
       "      <td>Star Wars: Episode I  The Phantom Menace</td>\n",
       "      <td>Star Wars: Episode II  Attack of the Clones</td>\n",
       "      <td>Star Wars: Episode III  Revenge of the Sith</td>\n",
       "      <td>Star Wars: Episode IV  A New Hope</td>\n",
       "      <td>Star Wars: Episode V The Empire Strikes Back</td>\n",
       "      <td>Star Wars: Episode VI Return of the Jedi</td>\n",
       "      <td>Star Wars: Episode I  The Phantom Menace</td>\n",
       "      <td>...</td>\n",
       "      <td>Yoda</td>\n",
       "      <td>Response</td>\n",
       "      <td>Response</td>\n",
       "      <td>Response</td>\n",
       "      <td>Response</td>\n",
       "      <td>Response</td>\n",
       "      <td>Response</td>\n",
       "      <td>Response</td>\n",
       "      <td>Response</td>\n",
       "      <td>Response</td>\n",
       "    </tr>\n",
       "  </tbody>\n",
       "</table>\n",
       "<p>1 rows × 38 columns</p>\n",
       "</div>"
      ],
      "text/plain": [
       "   RespondentID Have you seen any of the 6 films in the Star Wars franchise?  \\\n",
       "0           NaN                                           Response             \n",
       "\n",
       "  Do you consider yourself to be a fan of the Star Wars film franchise?  \\\n",
       "0                                           Response                      \n",
       "\n",
       "  Which of the following Star Wars films have you seen? Please select all that apply.  \\\n",
       "0           Star Wars: Episode I  The Phantom Menace                                    \n",
       "\n",
       "                                    Unnamed: 4  \\\n",
       "0  Star Wars: Episode II  Attack of the Clones   \n",
       "\n",
       "                                    Unnamed: 5  \\\n",
       "0  Star Wars: Episode III  Revenge of the Sith   \n",
       "\n",
       "                          Unnamed: 6  \\\n",
       "0  Star Wars: Episode IV  A New Hope   \n",
       "\n",
       "                                     Unnamed: 7  \\\n",
       "0  Star Wars: Episode V The Empire Strikes Back   \n",
       "\n",
       "                                 Unnamed: 8  \\\n",
       "0  Star Wars: Episode VI Return of the Jedi   \n",
       "\n",
       "  Please rank the Star Wars films in order of preference with 1 being your favorite film in the franchise and 6 being your least favorite film.  \\\n",
       "0           Star Wars: Episode I  The Phantom Menace                                                                                              \n",
       "\n",
       "            ...            Unnamed: 28 Which character shot first?  \\\n",
       "0           ...                   Yoda                    Response   \n",
       "\n",
       "  Are you familiar with the Expanded Universe?  \\\n",
       "0                                     Response   \n",
       "\n",
       "  Do you consider yourself to be a fan of the Expanded Universe?ÂÃ¦  \\\n",
       "0                                           Response                   \n",
       "\n",
       "  Do you consider yourself to be a fan of the Star Trek franchise?    Gender  \\\n",
       "0                                           Response                Response   \n",
       "\n",
       "        Age Household Income Education Location (Census Region)  \n",
       "0  Response         Response  Response                 Response  \n",
       "\n",
       "[1 rows x 38 columns]"
      ]
     },
     "execution_count": 10,
     "metadata": {},
     "output_type": "execute_result"
    }
   ],
   "source": [
    "# inspecting the row that contains 'Response' \n",
    "star_wars.loc[star_wars['Age']=='Response',:]"
   ]
  },
  {
   "cell_type": "markdown",
   "metadata": {},
   "source": [
    "The row that contains `'Response'` seems to be the header of the boxes to check in by the respondent in the survey, this row could have been created when the data was converted to columnar format. "
   ]
  },
  {
   "cell_type": "markdown",
   "metadata": {},
   "source": [
    "We see in the DataFrame above that the column `'Unnamed: 28'` contains the value `'Yoda'` which is the name of a character in Star Wars movies, let's check this out deeply."
   ]
  },
  {
   "cell_type": "markdown",
   "metadata": {},
   "source": [
    "#### Investigating columns from 'Unamed: 16' to 'Unamed: 28'."
   ]
  },
  {
   "cell_type": "code",
   "execution_count": 11,
   "metadata": {
    "collapsed": false
   },
   "outputs": [
    {
     "data": {
      "text/html": [
       "<div>\n",
       "<style scoped>\n",
       "    .dataframe tbody tr th:only-of-type {\n",
       "        vertical-align: middle;\n",
       "    }\n",
       "\n",
       "    .dataframe tbody tr th {\n",
       "        vertical-align: top;\n",
       "    }\n",
       "\n",
       "    .dataframe thead th {\n",
       "        text-align: right;\n",
       "    }\n",
       "</style>\n",
       "<table border=\"1\" class=\"dataframe\">\n",
       "  <thead>\n",
       "    <tr style=\"text-align: right;\">\n",
       "      <th></th>\n",
       "      <th>Unnamed: 16</th>\n",
       "      <th>Unnamed: 17</th>\n",
       "      <th>Unnamed: 18</th>\n",
       "      <th>Unnamed: 19</th>\n",
       "      <th>Unnamed: 20</th>\n",
       "      <th>Unnamed: 21</th>\n",
       "      <th>Unnamed: 22</th>\n",
       "      <th>Unnamed: 23</th>\n",
       "      <th>Unnamed: 24</th>\n",
       "      <th>Unnamed: 25</th>\n",
       "      <th>Unnamed: 26</th>\n",
       "      <th>Unnamed: 27</th>\n",
       "      <th>Unnamed: 28</th>\n",
       "    </tr>\n",
       "  </thead>\n",
       "  <tbody>\n",
       "    <tr>\n",
       "      <th>0</th>\n",
       "      <td>Luke Skywalker</td>\n",
       "      <td>Princess Leia Organa</td>\n",
       "      <td>Anakin Skywalker</td>\n",
       "      <td>Obi Wan Kenobi</td>\n",
       "      <td>Emperor Palpatine</td>\n",
       "      <td>Darth Vader</td>\n",
       "      <td>Lando Calrissian</td>\n",
       "      <td>Boba Fett</td>\n",
       "      <td>C-3P0</td>\n",
       "      <td>R2 D2</td>\n",
       "      <td>Jar Jar Binks</td>\n",
       "      <td>Padme Amidala</td>\n",
       "      <td>Yoda</td>\n",
       "    </tr>\n",
       "  </tbody>\n",
       "</table>\n",
       "</div>"
      ],
      "text/plain": [
       "      Unnamed: 16           Unnamed: 17       Unnamed: 18     Unnamed: 19  \\\n",
       "0  Luke Skywalker  Princess Leia Organa  Anakin Skywalker  Obi Wan Kenobi   \n",
       "\n",
       "         Unnamed: 20  Unnamed: 21       Unnamed: 22 Unnamed: 23 Unnamed: 24  \\\n",
       "0  Emperor Palpatine  Darth Vader  Lando Calrissian   Boba Fett       C-3P0   \n",
       "\n",
       "  Unnamed: 25    Unnamed: 26    Unnamed: 27 Unnamed: 28  \n",
       "0       R2 D2  Jar Jar Binks  Padme Amidala        Yoda  "
      ]
     },
     "execution_count": 11,
     "metadata": {},
     "output_type": "execute_result"
    }
   ],
   "source": [
    "# inspecting the row that contains 'Response' for columns 'Unamed: 16' to 'Unamed: 28'\n",
    "star_wars.loc[star_wars['Age']=='Response','Unnamed: 16' : 'Unnamed: 28']"
   ]
  },
  {
   "cell_type": "markdown",
   "metadata": {},
   "source": [
    "The values above are the names of different characters in the Star Wars movies, it seems that they are related to the column `'Please state whether you view the following characters favorably, unfavorably, or are unfamiliar with him/her.'` let's investigate that column."
   ]
  },
  {
   "cell_type": "code",
   "execution_count": 12,
   "metadata": {
    "collapsed": false
   },
   "outputs": [
    {
     "data": {
      "text/plain": [
       "Very favorably                                 610\n",
       "NaN                                            357\n",
       "Somewhat favorably                             151\n",
       "Neither favorably nor unfavorably (neutral)     44\n",
       "Unfamiliar (N/A)                                15\n",
       "Somewhat unfavorably                             8\n",
       "Very unfavorably                                 1\n",
       "Han Solo                                         1\n",
       "Name: Please state whether you view the following characters favorably, unfavorably, or are unfamiliar with him/her., dtype: int64"
      ]
     },
     "execution_count": 12,
     "metadata": {},
     "output_type": "execute_result"
    }
   ],
   "source": [
    "# inspecting unique values in 'Please state whether you view the following characters favorably, unfavorably, or are unfamiliar with him/her.'\n",
    "star_wars['Please state whether you view the following characters favorably, unfavorably, or are unfamiliar with him/her.'].value_counts(dropna=False)"
   ]
  },
  {
   "cell_type": "markdown",
   "metadata": {},
   "source": [
    "The column  `'Please state whether you view the following characters favorably, unfavorably, or are unfamiliar with him/her.'` contains also a name of Star Wars character wich is `'Han Solo'`."
   ]
  },
  {
   "cell_type": "markdown",
   "metadata": {},
   "source": [
    "In summary, columns from **'Unamed: 16'** to **'Unamed: 28'** contain data on the respondents' point of view towards Star Wars characters. Each of the following columns can contain the value `Very favorably`, `Somewhat favorably`, `Unfamiliar (N/A)`, `Somewhat unfavorably`, `Very unfavorably`, or `NaN`:\n",
    "\n",
    "* **'Please state whether you view the following characters favorably, unfavorably, or are unfamiliar with him/her.'** - How much the respondent liked the character 'Han Solo' \n",
    "* **'Unnamed: 16'** - How much the respondent liked the character **'Luke Skywalker'** \n",
    "* **'Unnamed: 17'** - How much the respondent liked the character **'Princess Leia Organa'** \n",
    "* **'Unnamed: 18'** - How much the respondent liked the character **'Anakin Skywalker'** \n",
    "* **'Unnamed: 19'** - How much the respondent liked the character **'Obi Wan Kenobi'** \n",
    "* **'Unnamed: 20'** - How much the respondent liked the character **'Emperor Palpatine'** \n",
    "* **'Unnamed: 21'** - How much the respondent liked the character **'Darth Vader'** \n",
    "* **'Unnamed: 22'** - How much the respondent liked the character **'Lando Calrissian'** \n",
    "* **'Unnamed: 23'** - How much the respondent liked the character **'Boba Fett'** \n",
    "* **'Unnamed: 24'** - How much the respondent liked the character **'C-3P0'**  \n",
    "* **'Unnamed: 25'** - How much the respondent liked the character **'R2 D2'** \n",
    "* **'Unnamed: 26'** - How much the respondent liked the character **'Jar Jar Binks'** \n",
    "* **'Unnamed: 27'** - How much the respondent liked the character **'Padme Amidala'** \n",
    "* **'Unnamed: 28'** - How much the respondent liked the character **'Padme Yoda'**                                              "
   ]
  },
  {
   "cell_type": "markdown",
   "metadata": {},
   "source": [
    "Here we will save the names of the characters in a list for future use."
   ]
  },
  {
   "cell_type": "code",
   "execution_count": 13,
   "metadata": {
    "collapsed": false
   },
   "outputs": [
    {
     "data": {
      "text/plain": [
       "['Han Solo',\n",
       " 'Luke Skywalker',\n",
       " 'Princess Leia Organa',\n",
       " 'Anakin Skywalker',\n",
       " 'Obi Wan Kenobi',\n",
       " 'Emperor Palpatine',\n",
       " 'Darth Vader',\n",
       " 'Lando Calrissian',\n",
       " 'Boba Fett',\n",
       " 'C-3P0',\n",
       " 'R2 D2',\n",
       " 'Jar Jar Binks',\n",
       " 'Padme Amidala',\n",
       " 'Yoda']"
      ]
     },
     "execution_count": 13,
     "metadata": {},
     "output_type": "execute_result"
    }
   ],
   "source": [
    "characters = star_wars.iloc[0, 15:29].values.tolist()\n",
    "characters"
   ]
  },
  {
   "cell_type": "markdown",
   "metadata": {},
   "source": [
    "#### Investigating columns from 'Unamed: 4' to 'Unamed: 8'."
   ]
  },
  {
   "cell_type": "code",
   "execution_count": 14,
   "metadata": {
    "collapsed": false
   },
   "outputs": [
    {
     "data": {
      "text/plain": [
       "NaN                                            615\n",
       "Star Wars: Episode II  Attack of the Clones    572\n",
       "Name: Unnamed: 4, dtype: int64"
      ]
     },
     "execution_count": 14,
     "metadata": {},
     "output_type": "execute_result"
    }
   ],
   "source": [
    "# inspecting unique values in 'Unnamed: 4'\n",
    "star_wars['Unnamed: 4'].value_counts(dropna=False)"
   ]
  },
  {
   "cell_type": "code",
   "execution_count": 15,
   "metadata": {
    "collapsed": false
   },
   "outputs": [
    {
     "data": {
      "text/plain": [
       "Star Wars: Episode VI Return of the Jedi    739\n",
       "NaN                                         448\n",
       "Name: Unnamed: 8, dtype: int64"
      ]
     },
     "execution_count": 15,
     "metadata": {},
     "output_type": "execute_result"
    }
   ],
   "source": [
    "# inspecting unique values in 'Unnamed: 8'\n",
    "star_wars['Unnamed: 8'].value_counts(dropna=False)"
   ]
  },
  {
   "cell_type": "markdown",
   "metadata": {},
   "source": [
    "The columns **'Unamed: 4'** to **'Unamed: 8'** represent a single checkbox question that are related to the question, **'Which of the following Star Wars films have you seen? Please select all that apply.'**"
   ]
  },
  {
   "cell_type": "code",
   "execution_count": 16,
   "metadata": {
    "collapsed": false
   },
   "outputs": [
    {
     "data": {
      "text/plain": [
       "Star Wars: Episode I  The Phantom Menace    674\n",
       "NaN                                         513\n",
       "Name: Which of the following Star Wars films have you seen? Please select all that apply., dtype: int64"
      ]
     },
     "execution_count": 16,
     "metadata": {},
     "output_type": "execute_result"
    }
   ],
   "source": [
    "# inspecting unique values in 'Which of the following Star Wars films have you seen? Please select all that apply.'\n",
    "star_wars['Which of the following Star Wars films have you seen? Please select all that apply.'].value_counts(dropna=False)"
   ]
  },
  {
   "cell_type": "markdown",
   "metadata": {},
   "source": [
    "In summary, the following columns are related to the question \"`Which of the following Star Wars films have you seen?`\" :\n",
    "\n",
    "* **Which of the following Star Wars films have you seen? Please select all that apply.** - Whether or not the respondent saw Star Wars: Episode I The Phantom Menace.\n",
    "* **Unnamed: 4** - Whether or not the respondent saw Star Wars: Episode II Attack of the Clones.\n",
    "* **Unnamed: 5** - Whether or not the respondent saw Star Wars: Episode III Revenge of the Sith.\n",
    "* **Unnamed: 6** - Whether or not the respondent saw Star Wars: Episode IV A New Hope.\n",
    "* **Unnamed: 7** - Whether or not the respondent saw Star Wars: Episode V The Empire Strikes Back.\n",
    "* **Unnamed: 8** - Whether or not the respondent saw Star Wars: Episode VI Return of the Jedi."
   ]
  },
  {
   "cell_type": "markdown",
   "metadata": {},
   "source": [
    "#### Investigating columns from 'Unamed: 10' to 'Unamed: 14'."
   ]
  },
  {
   "cell_type": "code",
   "execution_count": 17,
   "metadata": {
    "collapsed": false
   },
   "outputs": [
    {
     "data": {
      "text/plain": [
       "NaN                                            350\n",
       "5                                              300\n",
       "4                                              183\n",
       "2                                              116\n",
       "3                                              103\n",
       "6                                              102\n",
       "1                                               32\n",
       "Star Wars: Episode II  Attack of the Clones      1\n",
       "Name: Unnamed: 10, dtype: int64"
      ]
     },
     "execution_count": 17,
     "metadata": {},
     "output_type": "execute_result"
    }
   ],
   "source": [
    "# inspecting unique values in 'Unnamed: 10'\n",
    "star_wars['Unnamed: 10'].value_counts(dropna=False)"
   ]
  },
  {
   "cell_type": "code",
   "execution_count": 18,
   "metadata": {
    "collapsed": false
   },
   "outputs": [
    {
     "data": {
      "text/plain": [
       "NaN                                         350\n",
       "2                                           232\n",
       "3                                           220\n",
       "1                                           146\n",
       "6                                           145\n",
       "4                                            57\n",
       "5                                            36\n",
       "Star Wars: Episode VI Return of the Jedi      1\n",
       "Name: Unnamed: 14, dtype: int64"
      ]
     },
     "execution_count": 18,
     "metadata": {},
     "output_type": "execute_result"
    }
   ],
   "source": [
    "# inspecting unique values in 'Unnamed: 14'\n",
    "star_wars['Unnamed: 14'].value_counts(dropna=False)"
   ]
  },
  {
   "cell_type": "code",
   "execution_count": 19,
   "metadata": {
    "collapsed": false
   },
   "outputs": [
    {
     "data": {
      "text/plain": [
       "NaN                                         351\n",
       "4                                           237\n",
       "6                                           168\n",
       "3                                           130\n",
       "1                                           129\n",
       "5                                           100\n",
       "2                                            71\n",
       "Star Wars: Episode I  The Phantom Menace      1\n",
       "Name: Please rank the Star Wars films in order of preference with 1 being your favorite film in the franchise and 6 being your least favorite film., dtype: int64"
      ]
     },
     "execution_count": 19,
     "metadata": {},
     "output_type": "execute_result"
    }
   ],
   "source": [
    "# inspecting unique values in 'Please rank the Star Wars films in order of preference with 1 being your favorite film in the franchise and 6 being your least favorite film.'\n",
    "star_wars['Please rank the Star Wars films in order of preference with 1 being your favorite film in the franchise and 6 being your least favorite film.'].value_counts(dropna=False)"
   ]
  },
  {
   "cell_type": "markdown",
   "metadata": {},
   "source": [
    "Columns from **Unamed: 10** to **Unamed: 14** ask the respondent to rank the Star Wars movies in order of least favorite to most favorite. 1 means the film was the most favorite, and 6 means it was the least favorite. Each of the following columns can contain the value 1, 2, 3, 4, 5, 6, or NaN:\n",
    "\n",
    "* **Please rank the Star Wars films in order of preference with 1 being your favorite film in the franchise and 6 being your least favorite film.** - How much the respondent liked Star Wars: Episode I The Phantom Menace\n",
    "* **Unnamed: 10** - How much the respondent liked Star Wars: Episode II Attack of the Clones\n",
    "* **Unnamed: 11** - How much the respondent liked Star Wars: Episode III Revenge of the Sith\n",
    "* **Unnamed: 12** - How much the respondent liked Star Wars: Episode IV A New Hope\n",
    "* **Unnamed: 13** - How much the respondent liked Star Wars: Episode V The Empire Strikes Back\n",
    "* **Unnamed: 14** - How much the respondent liked Star Wars: Episode VI Return of the Jedi"
   ]
  },
  {
   "cell_type": "markdown",
   "metadata": {},
   "source": [
    "### Data quality notes."
   ]
  },
  {
   "cell_type": "markdown",
   "metadata": {},
   "source": [
    "* **'RespondentID'** contains NaN values that we need to remove.\n",
    "* Columns like **'Have you seen any of the 6 films in the Star Wars franchise?'** and **'Do you consider yourself to be a fan of the Star Wars film franchise?'**  are currently string types, because the main values they contain are 'Yes' and 'No'. We can make the data a bit easier to analyze by converting them to a Boolean having only the values True, False, and NaN.\n",
    "* The names of columns **'Which of the following Star Wars films have you seen? Please select all that apply.'** to **'Unnamed: 8'** need to be more intuitive, the same case with columns from **'Please rank the Star Wars films in order of preference with 1 being your favorite film in the franchise and 6 being your least favorite film.'** to **'Unamed: 14'** and columns from **'Please state whether you view the following characters favorably, unfavorably, or are unfamiliar with him/her.'** to **'Unnamed: 28'**.\n",
    "* Columns **'Which of the following Star Wars films have you seen? Please select all that apply.'** to **'Unnamed: 8'** are object type. We'll need to convert each of these columns to a Boolean 'True' and 'False' values.\n",
    "* We need to remove the strange Characters from **'Do you consider yourself to be a fan of the Expanded Universe?ÂÃ¦'**"
   ]
  },
  {
   "cell_type": "markdown",
   "metadata": {},
   "source": [
    "#### Remove any rows where RespondentID is NaN."
   ]
  },
  {
   "cell_type": "code",
   "execution_count": 20,
   "metadata": {
    "collapsed": false,
    "scrolled": false
   },
   "outputs": [],
   "source": [
    "# Remove any rows where RespondentID is NaN\n",
    "star_wars = star_wars[star_wars['RespondentID'].notnull()]"
   ]
  },
  {
   "cell_type": "code",
   "execution_count": 21,
   "metadata": {
    "collapsed": false
   },
   "outputs": [
    {
     "name": "stdout",
     "output_type": "stream",
     "text": [
      "The number of rows is 1186\n"
     ]
    }
   ],
   "source": [
    "print('The number of rows is',star_wars.shape[0])"
   ]
  },
  {
   "cell_type": "markdown",
   "metadata": {},
   "source": [
    "#### Renaming columns."
   ]
  },
  {
   "cell_type": "code",
   "execution_count": 22,
   "metadata": {
    "collapsed": false
   },
   "outputs": [
    {
     "data": {
      "text/plain": [
       "Index(['RespondentID',\n",
       "       'Have you seen any of the 6 films in the Star Wars franchise?',\n",
       "       'Do you consider yourself to be a fan of the Star Wars film franchise?',\n",
       "       'I saw Star Wars: Episode I  The Phantom Menace',\n",
       "       'I saw Star Wars: Episode II  Attack of the Clones',\n",
       "       'I saw Star Wars: Episode III  Revenge of the Sith',\n",
       "       'I saw Star Wars: Episode IV  A New Hope',\n",
       "       'I saw Star Wars: Episode V The Empire Strikes Back',\n",
       "       'I saw Star Wars: Episode VI Return of the Jedi',\n",
       "       'Star Wars: Episode I  The Phantom Menace rank',\n",
       "       'Star Wars: Episode II  Attack of the Clones rank',\n",
       "       'Star Wars: Episode III  Revenge of the Sith rank',\n",
       "       'Star Wars: Episode IV  A New Hope rank',\n",
       "       'Star Wars: Episode V The Empire Strikes Back rank',\n",
       "       'Star Wars: Episode VI Return of the Jedi rank', 'Han Solo',\n",
       "       'Luke Skywalker', 'Princess Leia Organa', 'Anakin Skywalker',\n",
       "       'Obi Wan Kenobi', 'Emperor Palpatine', 'Darth Vader',\n",
       "       'Lando Calrissian', 'Boba Fett', 'C-3P0', 'R2 D2', 'Jar Jar Binks',\n",
       "       'Padme Amidala', 'Yoda', 'Which character shot first?',\n",
       "       'Are you familiar with the Expanded Universe?',\n",
       "       'Do you consider yourself to be a fan of the Expanded Universe?',\n",
       "       'Do you consider yourself to be a fan of the Star Trek franchise?',\n",
       "       'Gender', 'Age', 'Household Income', 'Education',\n",
       "       'Location (Census Region)'],\n",
       "      dtype='object')"
      ]
     },
     "execution_count": 22,
     "metadata": {},
     "output_type": "execute_result"
    }
   ],
   "source": [
    "# Renaming columns related to the question 'Which of the following Star Wars films have you seen?'\n",
    "i_saw_it = {\"Which of the following Star Wars films have you seen? Please select all that apply.\": \"I saw Star Wars: Episode I  The Phantom Menace\",\n",
    "        \"Unnamed: 4\": \"I saw Star Wars: Episode II  Attack of the Clones\",\n",
    "        \"Unnamed: 5\": \"I saw Star Wars: Episode III  Revenge of the Sith\",\n",
    "        \"Unnamed: 6\": \"I saw Star Wars: Episode IV  A New Hope\",\n",
    "        \"Unnamed: 7\": \"I saw Star Wars: Episode V The Empire Strikes Back\",\n",
    "        \"Unnamed: 8\": \"I saw Star Wars: Episode VI Return of the Jedi\"}\n",
    "star_wars.rename(columns=i_saw_it,inplace=True)\n",
    "\n",
    "# Renaming columns related to the question 'Please rank the Star Wars films in order of preference\n",
    "# with 1 being your favorite film in the franchise and 6 being your least favorite film.'    \n",
    "ranking = {\"Please rank the Star Wars films in order of preference with 1 being your favorite film in the franchise and 6 being your least favorite film.\": \"Star Wars: Episode I  The Phantom Menace rank\",\n",
    "        \"Unnamed: 10\": \"Star Wars: Episode II  Attack of the Clones rank\",\n",
    "        \"Unnamed: 11\": \"Star Wars: Episode III  Revenge of the Sith rank\",\n",
    "        \"Unnamed: 12\": \"Star Wars: Episode IV  A New Hope rank\",\n",
    "        \"Unnamed: 13\": \"Star Wars: Episode V The Empire Strikes Back rank\",\n",
    "        \"Unnamed: 14\": \"Star Wars: Episode VI Return of the Jedi rank\"}\n",
    "star_wars.rename(columns=ranking,inplace=True)\n",
    "\n",
    "# Renaming columns related to the question 'Please state whether you view the following characters \n",
    "#favorably, unfavorably, or are unfamiliar with him/her.\n",
    "star_wars_characters = dict(zip(star_wars.columns[15:29],characters))\n",
    "star_wars.rename(columns=star_wars_characters,inplace=True)\n",
    "\n",
    "# remove strange characters from 'Do you consider yourself to be a fan of the Expanded Universe?ÂÃ¦\n",
    "star_wars.columns = star_wars.columns.str.replace('ÂÃ¦','')\n",
    "\n",
    "star_wars.columns"
   ]
  },
  {
   "cell_type": "markdown",
   "metadata": {},
   "source": [
    "#### Converting columns from position 3 to 8 into Boolean type. \n",
    "We will convert the columns from position 3 to 8 so that they contain only the values True and False, if the value in a cell is the name of the movie, that means the respondent saw the movie. If the value is NaN, the respondent either didn't answer or didn't see the movie. We'll assume that they didn't see the movie."
   ]
  },
  {
   "cell_type": "code",
   "execution_count": 23,
   "metadata": {
    "collapsed": false
   },
   "outputs": [
    {
     "data": {
      "text/html": [
       "<div>\n",
       "<style scoped>\n",
       "    .dataframe tbody tr th:only-of-type {\n",
       "        vertical-align: middle;\n",
       "    }\n",
       "\n",
       "    .dataframe tbody tr th {\n",
       "        vertical-align: top;\n",
       "    }\n",
       "\n",
       "    .dataframe thead th {\n",
       "        text-align: right;\n",
       "    }\n",
       "</style>\n",
       "<table border=\"1\" class=\"dataframe\">\n",
       "  <thead>\n",
       "    <tr style=\"text-align: right;\">\n",
       "      <th></th>\n",
       "      <th>I saw Star Wars: Episode I  The Phantom Menace</th>\n",
       "      <th>I saw Star Wars: Episode II  Attack of the Clones</th>\n",
       "      <th>I saw Star Wars: Episode III  Revenge of the Sith</th>\n",
       "      <th>I saw Star Wars: Episode IV  A New Hope</th>\n",
       "      <th>I saw Star Wars: Episode V The Empire Strikes Back</th>\n",
       "      <th>I saw Star Wars: Episode VI Return of the Jedi</th>\n",
       "    </tr>\n",
       "  </thead>\n",
       "  <tbody>\n",
       "    <tr>\n",
       "      <th>1</th>\n",
       "      <td>True</td>\n",
       "      <td>True</td>\n",
       "      <td>True</td>\n",
       "      <td>True</td>\n",
       "      <td>True</td>\n",
       "      <td>True</td>\n",
       "    </tr>\n",
       "    <tr>\n",
       "      <th>2</th>\n",
       "      <td>False</td>\n",
       "      <td>False</td>\n",
       "      <td>False</td>\n",
       "      <td>False</td>\n",
       "      <td>False</td>\n",
       "      <td>False</td>\n",
       "    </tr>\n",
       "    <tr>\n",
       "      <th>3</th>\n",
       "      <td>True</td>\n",
       "      <td>True</td>\n",
       "      <td>True</td>\n",
       "      <td>False</td>\n",
       "      <td>False</td>\n",
       "      <td>False</td>\n",
       "    </tr>\n",
       "    <tr>\n",
       "      <th>4</th>\n",
       "      <td>True</td>\n",
       "      <td>True</td>\n",
       "      <td>True</td>\n",
       "      <td>True</td>\n",
       "      <td>True</td>\n",
       "      <td>True</td>\n",
       "    </tr>\n",
       "    <tr>\n",
       "      <th>5</th>\n",
       "      <td>True</td>\n",
       "      <td>True</td>\n",
       "      <td>True</td>\n",
       "      <td>True</td>\n",
       "      <td>True</td>\n",
       "      <td>True</td>\n",
       "    </tr>\n",
       "  </tbody>\n",
       "</table>\n",
       "</div>"
      ],
      "text/plain": [
       "   I saw Star Wars: Episode I  The Phantom Menace  \\\n",
       "1                                            True   \n",
       "2                                           False   \n",
       "3                                            True   \n",
       "4                                            True   \n",
       "5                                            True   \n",
       "\n",
       "   I saw Star Wars: Episode II  Attack of the Clones  \\\n",
       "1                                               True   \n",
       "2                                              False   \n",
       "3                                               True   \n",
       "4                                               True   \n",
       "5                                               True   \n",
       "\n",
       "   I saw Star Wars: Episode III  Revenge of the Sith  \\\n",
       "1                                               True   \n",
       "2                                              False   \n",
       "3                                               True   \n",
       "4                                               True   \n",
       "5                                               True   \n",
       "\n",
       "   I saw Star Wars: Episode IV  A New Hope  \\\n",
       "1                                     True   \n",
       "2                                    False   \n",
       "3                                    False   \n",
       "4                                     True   \n",
       "5                                     True   \n",
       "\n",
       "   I saw Star Wars: Episode V The Empire Strikes Back  \\\n",
       "1                                               True    \n",
       "2                                              False    \n",
       "3                                              False    \n",
       "4                                               True    \n",
       "5                                               True    \n",
       "\n",
       "   I saw Star Wars: Episode VI Return of the Jedi  \n",
       "1                                            True  \n",
       "2                                           False  \n",
       "3                                           False  \n",
       "4                                            True  \n",
       "5                                            True  "
      ]
     },
     "execution_count": 23,
     "metadata": {},
     "output_type": "execute_result"
    }
   ],
   "source": [
    "# define a function that update the value to True if the value is the name of the movie, False if the value is None.\n",
    "def update_val(val):\n",
    "    if val in [\"Star Wars: Episode I  The Phantom Menace\",\n",
    "        \"Star Wars: Episode II  Attack of the Clones\",\n",
    "        \"Star Wars: Episode III  Revenge of the Sith\",\n",
    "        \"Star Wars: Episode IV  A New Hope\",\n",
    "        \"Star Wars: Episode V The Empire Strikes Back\",\n",
    "        \"Star Wars: Episode VI Return of the Jedi\"]:\n",
    "        return True\n",
    "    else:\n",
    "        return False\n",
    "\n",
    "# apply the update_val element-wise on columns from position 3 to 8.    \n",
    "star_wars[star_wars.columns[3:9]] = star_wars[star_wars.columns[3:9]].applymap(update_val)\n",
    "star_wars[star_wars.columns[3:9]].head()"
   ]
  },
  {
   "cell_type": "markdown",
   "metadata": {},
   "source": [
    "#### Changing 'Yes' and 'No' values into 'True' and 'False'\n",
    "We will convert each column of the list bellow to a Boolean having only the values True, False, and NaN. \n",
    "* ***Have you seen any of the 6 films in the Star Wars franchise?***\n",
    "* ***Do you consider yourself to be a fan of the Star Wars film franchise?***\n",
    "* ***Are you familiar with the Expanded Universe?***\t\n",
    "* ***Do you consider yourself to be a fan of the Expanded Universe?***\t\n",
    "* ***Do you consider yourself to be a fan of the Star Trek franchise?***"
   ]
  },
  {
   "cell_type": "code",
   "execution_count": 24,
   "metadata": {
    "collapsed": false
   },
   "outputs": [
    {
     "data": {
      "text/html": [
       "<div>\n",
       "<style scoped>\n",
       "    .dataframe tbody tr th:only-of-type {\n",
       "        vertical-align: middle;\n",
       "    }\n",
       "\n",
       "    .dataframe tbody tr th {\n",
       "        vertical-align: top;\n",
       "    }\n",
       "\n",
       "    .dataframe thead th {\n",
       "        text-align: right;\n",
       "    }\n",
       "</style>\n",
       "<table border=\"1\" class=\"dataframe\">\n",
       "  <thead>\n",
       "    <tr style=\"text-align: right;\">\n",
       "      <th></th>\n",
       "      <th>Have you seen any of the 6 films in the Star Wars franchise?</th>\n",
       "      <th>Do you consider yourself to be a fan of the Star Wars film franchise?</th>\n",
       "      <th>Are you familiar with the Expanded Universe?</th>\n",
       "      <th>Do you consider yourself to be a fan of the Expanded Universe?</th>\n",
       "      <th>Do you consider yourself to be a fan of the Star Trek franchise?</th>\n",
       "    </tr>\n",
       "  </thead>\n",
       "  <tbody>\n",
       "    <tr>\n",
       "      <th>1</th>\n",
       "      <td>True</td>\n",
       "      <td>True</td>\n",
       "      <td>True</td>\n",
       "      <td>False</td>\n",
       "      <td>False</td>\n",
       "    </tr>\n",
       "    <tr>\n",
       "      <th>2</th>\n",
       "      <td>False</td>\n",
       "      <td>None</td>\n",
       "      <td>None</td>\n",
       "      <td>None</td>\n",
       "      <td>True</td>\n",
       "    </tr>\n",
       "    <tr>\n",
       "      <th>3</th>\n",
       "      <td>True</td>\n",
       "      <td>False</td>\n",
       "      <td>False</td>\n",
       "      <td>None</td>\n",
       "      <td>False</td>\n",
       "    </tr>\n",
       "    <tr>\n",
       "      <th>4</th>\n",
       "      <td>True</td>\n",
       "      <td>True</td>\n",
       "      <td>False</td>\n",
       "      <td>None</td>\n",
       "      <td>True</td>\n",
       "    </tr>\n",
       "    <tr>\n",
       "      <th>5</th>\n",
       "      <td>True</td>\n",
       "      <td>True</td>\n",
       "      <td>True</td>\n",
       "      <td>False</td>\n",
       "      <td>False</td>\n",
       "    </tr>\n",
       "  </tbody>\n",
       "</table>\n",
       "</div>"
      ],
      "text/plain": [
       "   Have you seen any of the 6 films in the Star Wars franchise?  \\\n",
       "1                                               True              \n",
       "2                                              False              \n",
       "3                                               True              \n",
       "4                                               True              \n",
       "5                                               True              \n",
       "\n",
       "  Do you consider yourself to be a fan of the Star Wars film franchise?  \\\n",
       "1                                               True                      \n",
       "2                                               None                      \n",
       "3                                              False                      \n",
       "4                                               True                      \n",
       "5                                               True                      \n",
       "\n",
       "  Are you familiar with the Expanded Universe?  \\\n",
       "1                                         True   \n",
       "2                                         None   \n",
       "3                                        False   \n",
       "4                                        False   \n",
       "5                                         True   \n",
       "\n",
       "  Do you consider yourself to be a fan of the Expanded Universe?  \\\n",
       "1                                              False               \n",
       "2                                               None               \n",
       "3                                               None               \n",
       "4                                               None               \n",
       "5                                              False               \n",
       "\n",
       "  Do you consider yourself to be a fan of the Star Trek franchise?  \n",
       "1                                              False                \n",
       "2                                               True                \n",
       "3                                              False                \n",
       "4                                               True                \n",
       "5                                              False                "
      ]
     },
     "execution_count": 24,
     "metadata": {},
     "output_type": "execute_result"
    }
   ],
   "source": [
    "# define a function that change 'Yes' to 'True' and 'No' to 'False'.\n",
    "def yes_no(val):\n",
    "    if val == \"Yes\":\n",
    "        return True\n",
    "    elif val == \"No\":\n",
    "        return False\n",
    "\n",
    "# apply the function yes_no element-wise on columns with position 1,2,30,31 and 32.    \n",
    "star_wars[star_wars.columns[[1,2,30,31,32]]] = star_wars[star_wars.columns[[1,2,30,31,32]]].applymap(yes_no)\n",
    "star_wars[star_wars.columns[[1,2,30,31,32]]].head()"
   ]
  },
  {
   "cell_type": "markdown",
   "metadata": {
    "collapsed": true
   },
   "source": [
    "## Data Analysis"
   ]
  },
  {
   "cell_type": "markdown",
   "metadata": {},
   "source": [
    "Recall that the respondent was asked to rank the Star Wars movies in order of least favorite to most favorite. 1 means the film was the most favorite, and 6 means it was the least favorite. Now that we've cleaned up the ranking columns, we can find the highest-ranked movie more quickly. To do this, we will take the mean of each of the ranking columns using the pandas. DataFrame.mean() method on dataframes wich means that the movie with the lowest ranking is the best!"
   ]
  },
  {
   "cell_type": "markdown",
   "metadata": {},
   "source": [
    "### The most popular Star Wars movie"
   ]
  },
  {
   "cell_type": "code",
   "execution_count": 25,
   "metadata": {
    "collapsed": false,
    "scrolled": true
   },
   "outputs": [
    {
     "data": {
      "image/png": "[encoded data removed]",
      "text/plain": [
       "<matplotlib.figure.Figure at 0x7f094c5de400>"
      ]
     },
     "metadata": {},
     "output_type": "display_data"
    }
   ],
   "source": [
    "# find the mean of each of the ranking columns\n",
    "ranking = star_wars[star_wars.columns[9:15]].astype(float).mean(axis=0)\n",
    "# visualization \n",
    "fig , ax = plt.subplots(figsize=[8,5])\n",
    "ax = star_wars[star_wars.columns[9:15]].astype(float).mean(axis=0).plot.barh(color='blue')\n",
    "# remove x ticks labels\n",
    "ax.set_xticks([])\n",
    "# remove spines\n",
    "for key,spine in ax.spines.items():\n",
    "    spine.set_visible(False)    \n",
    "# set title\n",
    "ax.set_title('Star Wars movies ranked by repondents',size=15)\n",
    "# remove y ticks\n",
    "ax.yaxis.set_ticks_position('none')\n",
    "ax.xaxis.set_ticks_position('none')\n",
    "# add padding between axes and labels set y label size\n",
    "ax.xaxis.set_tick_params(pad=5)\n",
    "ax.yaxis.set_tick_params(pad=10,labelsize=12)\n",
    "# annotation\n",
    "for p, q in zip(ax.patches, ranking.index.values.tolist()):\n",
    "    ax.text(p.get_width()+.1,p.get_y()+p.get_height()/2-.1,'rank '+str(ranking.sort_values(ascending=True).index.values.tolist().index(q)+1),size=12)\n"
   ]
  },
  {
   "cell_type": "markdown",
   "metadata": {},
   "source": [
    "In general, fans seem to prefer the original trilogy of the cinematic saga of Star Wars which consists of \"A New Hope (1977)\", \"The Empire Strikes Back (1980)\" and \"Return of the Jedi (1983)\". The trilogy was the first epic science fiction space adventure to be told on a large scale that is why it holds a special place in the hearts of Star Wars fans. `\"Star Wars: Episode V The Empire Strikes Back\"` is considered by the respondents to be the best film in the saga."
   ]
  },
  {
   "cell_type": "markdown",
   "metadata": {},
   "source": [
    "### The most seen Star Wars movie"
   ]
  },
  {
   "cell_type": "code",
   "execution_count": 26,
   "metadata": {
    "collapsed": false
   },
   "outputs": [
    {
     "data": {
      "image/png": "[encoded data removed]",
      "text/plain": [
       "<matplotlib.figure.Figure at 0x7f094c690320>"
      ]
     },
     "metadata": {},
     "output_type": "display_data"
    }
   ],
   "source": [
    "fig,ax = plt.subplots(figsize=[8,5])\n",
    "ax = star_wars[star_wars.columns[3:9]].sum(axis=0).sort_values().plot.barh(color='blue')\n",
    "# remove spines\n",
    "for key,spine in ax.spines.items():\n",
    "    spine.set_visible(False) \n",
    "# remove x ticks labels\n",
    "ax.set_xticklabels([])\n",
    "# set title\n",
    "ax.set_title('The most seen Star Wars Movie',size=15)\n",
    "# remove x,y Ticks\n",
    "ax.yaxis.set_ticks_position('none')\n",
    "ax.xaxis.set_ticks_position('none')\n",
    "# add padding between axes and labels\n",
    "ax.xaxis.set_tick_params(pad=5)\n",
    "ax.yaxis.set_tick_params(pad=10,labelsize=12)"
   ]
  },
  {
   "cell_type": "markdown",
   "metadata": {},
   "source": [
    "`\"Star Wars: Episode V The Empire Strikes Back\"` is the most seen Star Wars movie by the respondents. In general the results correlate positively with the ranking, the more the movie is popular, the more it is watched."
   ]
  },
  {
   "cell_type": "markdown",
   "metadata": {},
   "source": [
    "### The most popular Star Wars movie by gender"
   ]
  },
  {
   "cell_type": "code",
   "execution_count": 27,
   "metadata": {
    "collapsed": false
   },
   "outputs": [
    {
     "data": {
      "image/png": "[encoded data removed]",
      "text/plain": [
       "<matplotlib.figure.Figure at 0x7f094a564cc0>"
      ]
     },
     "metadata": {},
     "output_type": "display_data"
    }
   ],
   "source": [
    "# star wars movies names\n",
    "sw_movies_rank = star_wars.columns[9:15]\n",
    "# male's preferences\n",
    "male_preference = star_wars.loc[star_wars[\"Gender\"] == \"Male\",sw_movies_rank].astype(float).mean()\n",
    "# female's preferences\n",
    "female_preference = star_wars.loc[star_wars[\"Gender\"] == \"Female\",sw_movies_rank].astype(float).mean()\n",
    "\n",
    "# visualization :\n",
    "fig,ax = plt.subplots(figsize=[8,5])\n",
    "\n",
    "y_index = np.array([0,1.5,3,4.5,6,7.5])\n",
    "height = .5\n",
    "# plotting male_preference \n",
    "m = ax.barh(y_index ,male_preference,height)\n",
    "# plotting female_preference \n",
    "f= ax.barh(y_index+height ,female_preference,height,color='orange')\n",
    "# set y axis ticks and labels\n",
    "ax.set_yticks(y_index+.5)\n",
    "ax.set_yticklabels(labels=sw_movies_rank.values)\n",
    "# remove spines\n",
    "for key,spine in ax.spines.items():\n",
    "    spine.set_visible(False) \n",
    "# remove x,y Ticks\n",
    "ax.yaxis.set_ticks_position('none')\n",
    "ax.xaxis.set_ticks_position('none')\n",
    "# remove x ticks labels\n",
    "ax.set_xticklabels([])\n",
    "# set title\n",
    "ax.set_title('Star Wars movies ranked by Gender',size=15)\n",
    "# legend\n",
    "ax.legend((m, f), ('Male', 'Female'))\n",
    "# annotation_male\n",
    "for p, q in zip(m.patches, male_preference.index.values.tolist()):\n",
    "    ax.text(p.get_width()+.1,p.get_y()+p.get_height()/2-.13,'rank '+str(male_preference.sort_values(ascending=True).index.values.tolist().index(q)+1),size=10)\n",
    "# annotation_female\n",
    "for p, q in zip(f.patches, female_preference.index.values.tolist()):\n",
    "    ax.text(p.get_width()+.1,p.get_y()+p.get_height()/2-.13,'rank '+str(female_preference.sort_values(ascending=True).index.values.tolist().index(q)+1),size=10)"
   ]
  },
  {
   "cell_type": "markdown",
   "metadata": {},
   "source": [
    "`\"Episode V: The Empire Strikes Back\"` is the most popular Star Wars film among female and male fans. Men rated the three original movies at the top of their favorite Star Wars films while only two of the original movies were highly rated by women, they considered `\" Episode I: The Phantom Menace 1999\"` is more popular than `\"Episode IV: A New Hope 1977\"`."
   ]
  },
  {
   "cell_type": "markdown",
   "metadata": {},
   "source": [
    "### The most seen Star Wars movie by gender"
   ]
  },
  {
   "cell_type": "code",
   "execution_count": 28,
   "metadata": {
    "collapsed": false
   },
   "outputs": [
    {
     "data": {
      "text/plain": [
       "<matplotlib.legend.Legend at 0x7f094a429e80>"
      ]
     },
     "execution_count": 28,
     "metadata": {},
     "output_type": "execute_result"
    },
    {
     "data": {
      "image/png": "[encoded data removed]",
      "text/plain": [
       "<matplotlib.figure.Figure at 0x7f094a548a20>"
      ]
     },
     "metadata": {},
     "output_type": "display_data"
    }
   ],
   "source": [
    "seen = star_wars.columns[3:9]\n",
    "seen_movie_by_male = star_wars.loc[star_wars[\"Gender\"] == \"Male\",seen].astype(float).sum()\n",
    "seen_movie_by_female = star_wars.loc[star_wars[\"Gender\"] == \"Female\",seen].astype(float).sum()\n",
    "\n",
    "fig,ax = plt.subplots(figsize=[8,5])\n",
    "\n",
    "y_index = np.array([0,1.5,3,4.5,6,7.5])\n",
    "height = .5\n",
    "\n",
    "m = ax.barh(y_index ,seen_movie_by_male,height)\n",
    "f= ax.barh(y_index+height ,seen_movie_by_female,height,color='orange')\n",
    "# set y axis ticks and labels\n",
    "ax.set_yticks(y_index+.5)\n",
    "ax.set_yticklabels(labels=seen.values)\n",
    "# remove spines\n",
    "for key,spine in ax.spines.items():\n",
    "    spine.set_visible(False) \n",
    "# remove x,y Ticks\n",
    "ax.yaxis.set_ticks_position('none')\n",
    "ax.xaxis.set_ticks_position('none')\n",
    "# remove x ticks labels\n",
    "ax.set_xticklabels([])\n",
    "# set title\n",
    "ax.set_title('The most seen Star Wars movie by Gender',size=15)\n",
    "# set legend\n",
    "ax.legend((m, f), ('Male', 'Female'),loc='center right',bbox_to_anchor=(1.1, 0.3))"
   ]
  },
  {
   "cell_type": "markdown",
   "metadata": {},
   "source": [
    "Star Wars movies are more popular among men than women, `\"Episode V The Empire Striked Back\"` is the most watched Star Wars movie among both of men and women."
   ]
  },
  {
   "cell_type": "markdown",
   "metadata": {},
   "source": [
    "### Location of Star wars fans respondents\n",
    "\n",
    "We will focus here on respondents who consider themselves to be a fan of Star Wars film franchise."
   ]
  },
  {
   "cell_type": "code",
   "execution_count": 29,
   "metadata": {
    "collapsed": false
   },
   "outputs": [
    {
     "data": {
      "text/plain": [
       "True     552\n",
       "NaN      350\n",
       "False    284\n",
       "Name: Do you consider yourself to be a fan of the Star Wars film franchise?, dtype: int64"
      ]
     },
     "execution_count": 29,
     "metadata": {},
     "output_type": "execute_result"
    }
   ],
   "source": [
    "star_wars['Do you consider yourself to be a fan of the Star Wars film franchise?'].value_counts(dropna=False)"
   ]
  },
  {
   "cell_type": "markdown",
   "metadata": {},
   "source": [
    "We will fill nan values with False values."
   ]
  },
  {
   "cell_type": "code",
   "execution_count": 30,
   "metadata": {
    "collapsed": false
   },
   "outputs": [
    {
     "data": {
      "text/plain": [
       "False    634\n",
       "True     552\n",
       "Name: Do you consider yourself to be a fan of the Star Wars film franchise?, dtype: int64"
      ]
     },
     "execution_count": 30,
     "metadata": {},
     "output_type": "execute_result"
    }
   ],
   "source": [
    "star_wars['Do you consider yourself to be a fan of the Star Wars film franchise?']=star_wars['Do you consider yourself to be a fan of the Star Wars film franchise?'].fillna(False)\n",
    "star_wars['Do you consider yourself to be a fan of the Star Wars film franchise?'].value_counts(dropna=False)"
   ]
  },
  {
   "cell_type": "code",
   "execution_count": 31,
   "metadata": {
    "collapsed": false
   },
   "outputs": [
    {
     "data": {
      "text/plain": [
       "<matplotlib.text.Text at 0x7f094a3d79e8>"
      ]
     },
     "execution_count": 31,
     "metadata": {},
     "output_type": "execute_result"
    },
    {
     "data": {
      "image/png": "[encoded data removed]",
      "text/plain": [
       "<matplotlib.figure.Figure at 0x7f094c5c3940>"
      ]
     },
     "metadata": {},
     "output_type": "display_data"
    }
   ],
   "source": [
    "fig,ax = plt.subplots(figsize=[8,5])\n",
    "ax= (star_wars.loc[star_wars['Do you consider yourself to be a fan of the Star Trek franchise?'] == True,'Location (Census Region)'].value_counts()*100/552).plot.barh(color='blue')\n",
    "\n",
    "# remove spines\n",
    "for key,spine in ax.spines.items():\n",
    "    spine.set_visible(False) \n",
    "# remove x,y Ticks\n",
    "ax.yaxis.set_ticks_position('none')\n",
    "ax.xaxis.set_ticks_position('none')\n",
    "# set x axis label\n",
    "ax.set_xlabel('%')\n",
    "# set title\n",
    "ax.set_title('Star Wars fans location',size=12)"
   ]
  },
  {
   "cell_type": "markdown",
   "metadata": {},
   "source": [
    "Most of the Star Wars fans who responded to the survey are located in the South Atlantic states, the East North Central, the Pacific and the Middle Atlantic."
   ]
  },
  {
   "cell_type": "markdown",
   "metadata": {},
   "source": [
    "### Education level for Star Wars fans"
   ]
  },
  {
   "cell_type": "code",
   "execution_count": 32,
   "metadata": {
    "collapsed": false
   },
   "outputs": [
    {
     "data": {
      "text/plain": [
       "<matplotlib.text.Text at 0x7f094a352e10>"
      ]
     },
     "execution_count": 32,
     "metadata": {},
     "output_type": "execute_result"
    },
    {
     "data": {
      "image/png": "[encoded data removed]",
      "text/plain": [
       "<matplotlib.figure.Figure at 0x7f094a3d0978>"
      ]
     },
     "metadata": {},
     "output_type": "display_data"
    }
   ],
   "source": [
    "fig,ax = plt.subplots(figsize=[8,5])\n",
    "\n",
    "ax= (star_wars.loc[star_wars['Do you consider yourself to be a fan of the Star Trek franchise?'] == True,'Education'].value_counts()*100/552).plot.barh(color='blue')\n",
    "\n",
    "# remove spines\n",
    "for key,spine in ax.spines.items():\n",
    "    spine.set_visible(False) \n",
    "# remove x,y Ticks\n",
    "ax.yaxis.set_ticks_position('none')\n",
    "ax.xaxis.set_ticks_position('none')\n",
    "# set x axis label\n",
    "ax.set_xlabel('%')\n",
    "# set title\n",
    "ax.set_title('Education level for Star Wars fans who responded to the survey',size=12)"
   ]
  },
  {
   "cell_type": "markdown",
   "metadata": {},
   "source": [
    "95% of the Star Wars fans who respond to the survey have more than a High school degree."
   ]
  },
  {
   "cell_type": "markdown",
   "metadata": {},
   "source": [
    "### Which character shot first?"
   ]
  },
  {
   "cell_type": "markdown",
   "metadata": {},
   "source": [
    "**`'Which character shot first?'`** ` {1} this question refers to a controversial change made to a scene in the science fiction action film Star Wars (1977), in which Han Solo (Harrison Ford) is confronted by the bounty hunter Greedo (Paul Blake) in the Mos Eisley cantina. In the original version of the scene, Han shoots Greedo dead. Later versions are edited so that Greedo attempts to fire at Han first. Director George Lucas altered the scene to give Solo more justification for acting in self-defense. Many fans and commentators oppose the change, feeling it weakens Solo's character. The controversy is referenced in the 2018 film Solo: A Star Wars Story.`\n",
    "\n",
    "\n",
    "{1}: `Wikipedia`.\n"
   ]
  },
  {
   "cell_type": "code",
   "execution_count": 33,
   "metadata": {
    "collapsed": false
   },
   "outputs": [
    {
     "data": {
      "text/plain": [
       "NaN                                 358\n",
       "Han                                 325\n",
       "I don't understand this question    306\n",
       "Greedo                              197\n",
       "Name: Which character shot first?, dtype: int64"
      ]
     },
     "execution_count": 33,
     "metadata": {},
     "output_type": "execute_result"
    }
   ],
   "source": [
    "# inspecting unique values in 'Which character shot first?'.\n",
    "star_wars['Which character shot first?'].value_counts(dropna=False)"
   ]
  },
  {
   "cell_type": "code",
   "execution_count": 34,
   "metadata": {
    "collapsed": false
   },
   "outputs": [
    {
     "data": {
      "text/plain": [
       "I don't understand this question    664\n",
       "Han                                 325\n",
       "Greedo                              197\n",
       "Name: Which character shot first?, dtype: int64"
      ]
     },
     "execution_count": 34,
     "metadata": {},
     "output_type": "execute_result"
    }
   ],
   "source": [
    "# filling the nan values with 'I don't understand this question'\n",
    "star_wars['Which character shot first?']=star_wars['Which character shot first?'].fillna(\"I don't understand this question\")\n",
    "star_wars['Which character shot first?'].value_counts(dropna=False)"
   ]
  },
  {
   "cell_type": "code",
   "execution_count": 35,
   "metadata": {
    "collapsed": false
   },
   "outputs": [
    {
     "data": {
      "image/png": "[encoded data removed]",
      "text/plain": [
       "<matplotlib.figure.Figure at 0x7f094a33ff28>"
      ]
     },
     "metadata": {},
     "output_type": "display_data"
    }
   ],
   "source": [
    "fig,ax = plt.subplots(figsize=[5,5])\n",
    "ax = star_wars.loc[star_wars['Do you consider yourself to be a fan of the Star Wars film franchise?'] == True,'Which character shot first?']\\\n",
    ".value_counts(dropna=False).plot.pie(autopct='%1.1f%%',explode=[0.03,0,0], startangle=90)\n",
    "ax.axis('equal')  # Equal aspect ratio ensures that pie is drawn as a circle.\n",
    "ax.set_ylabel('')\n",
    "ax.set_title('Which character shot first?').set_position([.5, 1.05])"
   ]
  },
  {
   "cell_type": "markdown",
   "metadata": {},
   "source": [
    "About half of those who consider themselves Star Wars fans are confident that Han Solo shot first in other hands 24% of respondants who consider themselves Star Wars fans didnt understand the question."
   ]
  },
  {
   "cell_type": "markdown",
   "metadata": {},
   "source": [
    "### Science fiction movie enthusiasts\n",
    "Here we will be interested in the age of sci-fi movies passionates, we will consider any respondent who is both a fan of star wars and star trek as such."
   ]
  },
  {
   "cell_type": "code",
   "execution_count": 36,
   "metadata": {
    "collapsed": false
   },
   "outputs": [],
   "source": [
    "geek=(star_wars['Do you consider yourself to be a fan of the Star Trek franchise?'] == True) & (star_wars['Do you consider yourself to be a fan of the Star Wars film franchise?']==True)"
   ]
  },
  {
   "cell_type": "code",
   "execution_count": 37,
   "metadata": {
    "collapsed": false
   },
   "outputs": [
    {
     "data": {
      "image/png": "[encoded data removed]",
      "text/plain": [
       "<matplotlib.figure.Figure at 0x7f094a376b00>"
      ]
     },
     "metadata": {},
     "output_type": "display_data"
    }
   ],
   "source": [
    "fig,ax = plt.subplots(figsize=[5,5])\n",
    "ax= (star_wars.loc[geek,'Age'].value_counts()*100/geek.astype(int).sum()).plot.pie(autopct='%1.1f%%',explode=[0,0,0,0], startangle=90)\n",
    "ax.axis('equal')  # Equal aspect ratio ensures that pie is drawn as a circle.\n",
    "ax.set_ylabel('')\n",
    "ax.set_title('Science fiction movie enthusiasts by age').set_position([.5, 1.05])"
   ]
  },
  {
   "cell_type": "markdown",
   "metadata": {},
   "source": [
    "About 25% of science fiction movie fans are over the age of 60!"
   ]
  },
  {
   "cell_type": "markdown",
   "metadata": {},
   "source": [
    "### Which character do respondents like the most ?"
   ]
  },
  {
   "cell_type": "code",
   "execution_count": 38,
   "metadata": {
    "collapsed": false
   },
   "outputs": [
    {
     "data": {
      "text/html": [
       "<div>\n",
       "<style scoped>\n",
       "    .dataframe tbody tr th:only-of-type {\n",
       "        vertical-align: middle;\n",
       "    }\n",
       "\n",
       "    .dataframe tbody tr th {\n",
       "        vertical-align: top;\n",
       "    }\n",
       "\n",
       "    .dataframe thead th {\n",
       "        text-align: right;\n",
       "    }\n",
       "</style>\n",
       "<table border=\"1\" class=\"dataframe\">\n",
       "  <thead>\n",
       "    <tr style=\"text-align: right;\">\n",
       "      <th></th>\n",
       "      <th>Han Solo</th>\n",
       "      <th>Luke Skywalker</th>\n",
       "      <th>Princess Leia Organa</th>\n",
       "      <th>Anakin Skywalker</th>\n",
       "      <th>Obi Wan Kenobi</th>\n",
       "      <th>Emperor Palpatine</th>\n",
       "      <th>Darth Vader</th>\n",
       "      <th>Lando Calrissian</th>\n",
       "      <th>Boba Fett</th>\n",
       "      <th>C-3P0</th>\n",
       "      <th>R2 D2</th>\n",
       "      <th>Jar Jar Binks</th>\n",
       "      <th>Padme Amidala</th>\n",
       "      <th>Yoda</th>\n",
       "    </tr>\n",
       "  </thead>\n",
       "  <tbody>\n",
       "    <tr>\n",
       "      <th>1</th>\n",
       "      <td>Very favorably</td>\n",
       "      <td>Very favorably</td>\n",
       "      <td>Very favorably</td>\n",
       "      <td>Very favorably</td>\n",
       "      <td>Very favorably</td>\n",
       "      <td>Very favorably</td>\n",
       "      <td>Very favorably</td>\n",
       "      <td>Unfamiliar (N/A)</td>\n",
       "      <td>Unfamiliar (N/A)</td>\n",
       "      <td>Very favorably</td>\n",
       "      <td>Very favorably</td>\n",
       "      <td>Very favorably</td>\n",
       "      <td>Very favorably</td>\n",
       "      <td>Very favorably</td>\n",
       "    </tr>\n",
       "    <tr>\n",
       "      <th>2</th>\n",
       "      <td>NaN</td>\n",
       "      <td>NaN</td>\n",
       "      <td>NaN</td>\n",
       "      <td>NaN</td>\n",
       "      <td>NaN</td>\n",
       "      <td>NaN</td>\n",
       "      <td>NaN</td>\n",
       "      <td>NaN</td>\n",
       "      <td>NaN</td>\n",
       "      <td>NaN</td>\n",
       "      <td>NaN</td>\n",
       "      <td>NaN</td>\n",
       "      <td>NaN</td>\n",
       "      <td>NaN</td>\n",
       "    </tr>\n",
       "    <tr>\n",
       "      <th>3</th>\n",
       "      <td>Somewhat favorably</td>\n",
       "      <td>Somewhat favorably</td>\n",
       "      <td>Somewhat favorably</td>\n",
       "      <td>Somewhat favorably</td>\n",
       "      <td>Somewhat favorably</td>\n",
       "      <td>Unfamiliar (N/A)</td>\n",
       "      <td>Unfamiliar (N/A)</td>\n",
       "      <td>Unfamiliar (N/A)</td>\n",
       "      <td>Unfamiliar (N/A)</td>\n",
       "      <td>Unfamiliar (N/A)</td>\n",
       "      <td>Unfamiliar (N/A)</td>\n",
       "      <td>Unfamiliar (N/A)</td>\n",
       "      <td>Unfamiliar (N/A)</td>\n",
       "      <td>Unfamiliar (N/A)</td>\n",
       "    </tr>\n",
       "    <tr>\n",
       "      <th>4</th>\n",
       "      <td>Very favorably</td>\n",
       "      <td>Very favorably</td>\n",
       "      <td>Very favorably</td>\n",
       "      <td>Very favorably</td>\n",
       "      <td>Very favorably</td>\n",
       "      <td>Somewhat favorably</td>\n",
       "      <td>Very favorably</td>\n",
       "      <td>Somewhat favorably</td>\n",
       "      <td>Somewhat unfavorably</td>\n",
       "      <td>Very favorably</td>\n",
       "      <td>Very favorably</td>\n",
       "      <td>Very favorably</td>\n",
       "      <td>Very favorably</td>\n",
       "      <td>Very favorably</td>\n",
       "    </tr>\n",
       "    <tr>\n",
       "      <th>5</th>\n",
       "      <td>Very favorably</td>\n",
       "      <td>Somewhat favorably</td>\n",
       "      <td>Somewhat favorably</td>\n",
       "      <td>Somewhat unfavorably</td>\n",
       "      <td>Very favorably</td>\n",
       "      <td>Very unfavorably</td>\n",
       "      <td>Somewhat favorably</td>\n",
       "      <td>Neither favorably nor unfavorably (neutral)</td>\n",
       "      <td>Very favorably</td>\n",
       "      <td>Somewhat favorably</td>\n",
       "      <td>Somewhat favorably</td>\n",
       "      <td>Very unfavorably</td>\n",
       "      <td>Somewhat favorably</td>\n",
       "      <td>Somewhat favorably</td>\n",
       "    </tr>\n",
       "  </tbody>\n",
       "</table>\n",
       "</div>"
      ],
      "text/plain": [
       "             Han Solo      Luke Skywalker Princess Leia Organa  \\\n",
       "1      Very favorably      Very favorably       Very favorably   \n",
       "2                 NaN                 NaN                  NaN   \n",
       "3  Somewhat favorably  Somewhat favorably   Somewhat favorably   \n",
       "4      Very favorably      Very favorably       Very favorably   \n",
       "5      Very favorably  Somewhat favorably   Somewhat favorably   \n",
       "\n",
       "       Anakin Skywalker      Obi Wan Kenobi   Emperor Palpatine  \\\n",
       "1        Very favorably      Very favorably      Very favorably   \n",
       "2                   NaN                 NaN                 NaN   \n",
       "3    Somewhat favorably  Somewhat favorably    Unfamiliar (N/A)   \n",
       "4        Very favorably      Very favorably  Somewhat favorably   \n",
       "5  Somewhat unfavorably      Very favorably    Very unfavorably   \n",
       "\n",
       "          Darth Vader                             Lando Calrissian  \\\n",
       "1      Very favorably                             Unfamiliar (N/A)   \n",
       "2                 NaN                                          NaN   \n",
       "3    Unfamiliar (N/A)                             Unfamiliar (N/A)   \n",
       "4      Very favorably                           Somewhat favorably   \n",
       "5  Somewhat favorably  Neither favorably nor unfavorably (neutral)   \n",
       "\n",
       "              Boba Fett               C-3P0               R2 D2  \\\n",
       "1      Unfamiliar (N/A)      Very favorably      Very favorably   \n",
       "2                   NaN                 NaN                 NaN   \n",
       "3      Unfamiliar (N/A)    Unfamiliar (N/A)    Unfamiliar (N/A)   \n",
       "4  Somewhat unfavorably      Very favorably      Very favorably   \n",
       "5        Very favorably  Somewhat favorably  Somewhat favorably   \n",
       "\n",
       "      Jar Jar Binks       Padme Amidala                Yoda  \n",
       "1    Very favorably      Very favorably      Very favorably  \n",
       "2               NaN                 NaN                 NaN  \n",
       "3  Unfamiliar (N/A)    Unfamiliar (N/A)    Unfamiliar (N/A)  \n",
       "4    Very favorably      Very favorably      Very favorably  \n",
       "5  Very unfavorably  Somewhat favorably  Somewhat favorably  "
      ]
     },
     "execution_count": 38,
     "metadata": {},
     "output_type": "execute_result"
    }
   ],
   "source": [
    "characters = star_wars[star_wars.columns[15:29]]\n",
    "characters.head()"
   ]
  },
  {
   "cell_type": "markdown",
   "metadata": {},
   "source": [
    "We will create a function that converts the respondent's point of view towards a Star Wars character to a score ranging from -2 to 2 we will then apply the sum of the scores for each character, the character with the highest score is the most appreciated by the respondents."
   ]
  },
  {
   "cell_type": "code",
   "execution_count": 39,
   "metadata": {
    "collapsed": false
   },
   "outputs": [],
   "source": [
    "# create a function that converts the respondent's point of view towards a star wars character to a score ranging from -2 to 2.\n",
    "def update_val(val):\n",
    "    if val=='Very favorably':\n",
    "        return 2\n",
    "    elif val=='Somewhat favorably':\n",
    "        return 1\n",
    "    elif val in ['Neither favorably nor unfavorably (neutral)' , 'Unfamiliar (N/A)',np.nan]:\n",
    "        return 0\n",
    "    elif val == 'Very unfavorably':\n",
    "        return -2\n",
    "    elif val == 'Somewhat unfavorably':\n",
    "        return -1\n",
    "# apply the update_val element-wise on columns with position 15 to 28.    \n",
    "characters = characters.applymap(update_val)"
   ]
  },
  {
   "cell_type": "code",
   "execution_count": 40,
   "metadata": {
    "collapsed": false
   },
   "outputs": [
    {
     "data": {
      "text/html": [
       "<div>\n",
       "<style scoped>\n",
       "    .dataframe tbody tr th:only-of-type {\n",
       "        vertical-align: middle;\n",
       "    }\n",
       "\n",
       "    .dataframe tbody tr th {\n",
       "        vertical-align: top;\n",
       "    }\n",
       "\n",
       "    .dataframe thead th {\n",
       "        text-align: right;\n",
       "    }\n",
       "</style>\n",
       "<table border=\"1\" class=\"dataframe\">\n",
       "  <thead>\n",
       "    <tr style=\"text-align: right;\">\n",
       "      <th></th>\n",
       "      <th>Han Solo</th>\n",
       "      <th>Luke Skywalker</th>\n",
       "      <th>Princess Leia Organa</th>\n",
       "      <th>Anakin Skywalker</th>\n",
       "      <th>Obi Wan Kenobi</th>\n",
       "      <th>Emperor Palpatine</th>\n",
       "      <th>Darth Vader</th>\n",
       "      <th>Lando Calrissian</th>\n",
       "      <th>Boba Fett</th>\n",
       "      <th>C-3P0</th>\n",
       "      <th>R2 D2</th>\n",
       "      <th>Jar Jar Binks</th>\n",
       "      <th>Padme Amidala</th>\n",
       "      <th>Yoda</th>\n",
       "    </tr>\n",
       "  </thead>\n",
       "  <tbody>\n",
       "    <tr>\n",
       "      <th>1</th>\n",
       "      <td>2</td>\n",
       "      <td>2</td>\n",
       "      <td>2</td>\n",
       "      <td>2</td>\n",
       "      <td>2</td>\n",
       "      <td>2</td>\n",
       "      <td>2</td>\n",
       "      <td>0</td>\n",
       "      <td>0</td>\n",
       "      <td>2</td>\n",
       "      <td>2</td>\n",
       "      <td>2</td>\n",
       "      <td>2</td>\n",
       "      <td>2</td>\n",
       "    </tr>\n",
       "    <tr>\n",
       "      <th>2</th>\n",
       "      <td>0</td>\n",
       "      <td>0</td>\n",
       "      <td>0</td>\n",
       "      <td>0</td>\n",
       "      <td>0</td>\n",
       "      <td>0</td>\n",
       "      <td>0</td>\n",
       "      <td>0</td>\n",
       "      <td>0</td>\n",
       "      <td>0</td>\n",
       "      <td>0</td>\n",
       "      <td>0</td>\n",
       "      <td>0</td>\n",
       "      <td>0</td>\n",
       "    </tr>\n",
       "    <tr>\n",
       "      <th>3</th>\n",
       "      <td>1</td>\n",
       "      <td>1</td>\n",
       "      <td>1</td>\n",
       "      <td>1</td>\n",
       "      <td>1</td>\n",
       "      <td>0</td>\n",
       "      <td>0</td>\n",
       "      <td>0</td>\n",
       "      <td>0</td>\n",
       "      <td>0</td>\n",
       "      <td>0</td>\n",
       "      <td>0</td>\n",
       "      <td>0</td>\n",
       "      <td>0</td>\n",
       "    </tr>\n",
       "    <tr>\n",
       "      <th>4</th>\n",
       "      <td>2</td>\n",
       "      <td>2</td>\n",
       "      <td>2</td>\n",
       "      <td>2</td>\n",
       "      <td>2</td>\n",
       "      <td>1</td>\n",
       "      <td>2</td>\n",
       "      <td>1</td>\n",
       "      <td>-1</td>\n",
       "      <td>2</td>\n",
       "      <td>2</td>\n",
       "      <td>2</td>\n",
       "      <td>2</td>\n",
       "      <td>2</td>\n",
       "    </tr>\n",
       "    <tr>\n",
       "      <th>5</th>\n",
       "      <td>2</td>\n",
       "      <td>1</td>\n",
       "      <td>1</td>\n",
       "      <td>-1</td>\n",
       "      <td>2</td>\n",
       "      <td>-2</td>\n",
       "      <td>1</td>\n",
       "      <td>0</td>\n",
       "      <td>2</td>\n",
       "      <td>1</td>\n",
       "      <td>1</td>\n",
       "      <td>-2</td>\n",
       "      <td>1</td>\n",
       "      <td>1</td>\n",
       "    </tr>\n",
       "  </tbody>\n",
       "</table>\n",
       "</div>"
      ],
      "text/plain": [
       "   Han Solo  Luke Skywalker  Princess Leia Organa  Anakin Skywalker  \\\n",
       "1         2               2                     2                 2   \n",
       "2         0               0                     0                 0   \n",
       "3         1               1                     1                 1   \n",
       "4         2               2                     2                 2   \n",
       "5         2               1                     1                -1   \n",
       "\n",
       "   Obi Wan Kenobi  Emperor Palpatine  Darth Vader  Lando Calrissian  \\\n",
       "1               2                  2            2                 0   \n",
       "2               0                  0            0                 0   \n",
       "3               1                  0            0                 0   \n",
       "4               2                  1            2                 1   \n",
       "5               2                 -2            1                 0   \n",
       "\n",
       "   Boba Fett  C-3P0  R2 D2  Jar Jar Binks  Padme Amidala  Yoda  \n",
       "1          0      2      2              2              2     2  \n",
       "2          0      0      0              0              0     0  \n",
       "3          0      0      0              0              0     0  \n",
       "4         -1      2      2              2              2     2  \n",
       "5          2      1      1             -2              1     1  "
      ]
     },
     "execution_count": 40,
     "metadata": {},
     "output_type": "execute_result"
    }
   ],
   "source": [
    "characters.head()"
   ]
  },
  {
   "cell_type": "code",
   "execution_count": 41,
   "metadata": {
    "collapsed": false
   },
   "outputs": [
    {
     "data": {
      "text/plain": [
       "<matplotlib.text.Text at 0x7f094a203668>"
      ]
     },
     "execution_count": 41,
     "metadata": {},
     "output_type": "execute_result"
    },
    {
     "data": {
      "image/png": "[encoded data removed]",
      "text/plain": [
       "<matplotlib.figure.Figure at 0x7f094a27e160>"
      ]
     },
     "metadata": {},
     "output_type": "display_data"
    }
   ],
   "source": [
    "fig,ax = plt.subplots(figsize=[8,5])\n",
    "\n",
    "ax= characters.sum(axis=0).plot.barh()\n",
    "\n",
    "# remove spines\n",
    "for key,spine in ax.spines.items():\n",
    "    spine.set_visible(False) \n",
    "# remove x,y Ticks\n",
    "ax.yaxis.set_ticks_position('none')\n",
    "ax.xaxis.set_ticks_position('none')\n",
    "# set title\n",
    "ax.set_title('Characters popularity',size=12)"
   ]
  },
  {
   "cell_type": "markdown",
   "metadata": {},
   "source": [
    "'Yoda' and 'Han Solo' are the respondents' favorite characters, in contrast 'Jar Jar Binks' is the least popular among the characters."
   ]
  },
  {
   "cell_type": "markdown",
   "metadata": {},
   "source": [
    "### Which character is the most controversial ?"
   ]
  },
  {
   "cell_type": "markdown",
   "metadata": {},
   "source": [
    "To find the most controversial character we need to split between the likes and the dislikes of each character to do that we are going to create a function that convert scores into 'like', 'dislike' and 'neutral'."
   ]
  },
  {
   "cell_type": "code",
   "execution_count": 42,
   "metadata": {
    "collapsed": false
   },
   "outputs": [],
   "source": [
    "# create a function that converts scores into likes, dislikes and neutral.\n",
    "def like_dislike(val):\n",
    "    if val > 0 :\n",
    "        return 'like'\n",
    "    elif val < 0 :\n",
    "        return 'dislike'\n",
    "    elif val == 0:\n",
    "        return 'neutral'\n",
    "# apply the like_dislike element-wise on columns with position 15 to 29.    \n",
    "characters = characters.applymap(like_dislike)"
   ]
  },
  {
   "cell_type": "code",
   "execution_count": 43,
   "metadata": {
    "collapsed": false
   },
   "outputs": [
    {
     "data": {
      "text/html": [
       "<div>\n",
       "<style scoped>\n",
       "    .dataframe tbody tr th:only-of-type {\n",
       "        vertical-align: middle;\n",
       "    }\n",
       "\n",
       "    .dataframe tbody tr th {\n",
       "        vertical-align: top;\n",
       "    }\n",
       "\n",
       "    .dataframe thead th {\n",
       "        text-align: right;\n",
       "    }\n",
       "</style>\n",
       "<table border=\"1\" class=\"dataframe\">\n",
       "  <thead>\n",
       "    <tr style=\"text-align: right;\">\n",
       "      <th></th>\n",
       "      <th>Han Solo</th>\n",
       "      <th>Luke Skywalker</th>\n",
       "      <th>Princess Leia Organa</th>\n",
       "      <th>Anakin Skywalker</th>\n",
       "      <th>Obi Wan Kenobi</th>\n",
       "      <th>Emperor Palpatine</th>\n",
       "      <th>Darth Vader</th>\n",
       "      <th>Lando Calrissian</th>\n",
       "      <th>Boba Fett</th>\n",
       "      <th>C-3P0</th>\n",
       "      <th>R2 D2</th>\n",
       "      <th>Jar Jar Binks</th>\n",
       "      <th>Padme Amidala</th>\n",
       "      <th>Yoda</th>\n",
       "    </tr>\n",
       "  </thead>\n",
       "  <tbody>\n",
       "    <tr>\n",
       "      <th>1</th>\n",
       "      <td>like</td>\n",
       "      <td>like</td>\n",
       "      <td>like</td>\n",
       "      <td>like</td>\n",
       "      <td>like</td>\n",
       "      <td>like</td>\n",
       "      <td>like</td>\n",
       "      <td>neutral</td>\n",
       "      <td>neutral</td>\n",
       "      <td>like</td>\n",
       "      <td>like</td>\n",
       "      <td>like</td>\n",
       "      <td>like</td>\n",
       "      <td>like</td>\n",
       "    </tr>\n",
       "    <tr>\n",
       "      <th>2</th>\n",
       "      <td>neutral</td>\n",
       "      <td>neutral</td>\n",
       "      <td>neutral</td>\n",
       "      <td>neutral</td>\n",
       "      <td>neutral</td>\n",
       "      <td>neutral</td>\n",
       "      <td>neutral</td>\n",
       "      <td>neutral</td>\n",
       "      <td>neutral</td>\n",
       "      <td>neutral</td>\n",
       "      <td>neutral</td>\n",
       "      <td>neutral</td>\n",
       "      <td>neutral</td>\n",
       "      <td>neutral</td>\n",
       "    </tr>\n",
       "    <tr>\n",
       "      <th>3</th>\n",
       "      <td>like</td>\n",
       "      <td>like</td>\n",
       "      <td>like</td>\n",
       "      <td>like</td>\n",
       "      <td>like</td>\n",
       "      <td>neutral</td>\n",
       "      <td>neutral</td>\n",
       "      <td>neutral</td>\n",
       "      <td>neutral</td>\n",
       "      <td>neutral</td>\n",
       "      <td>neutral</td>\n",
       "      <td>neutral</td>\n",
       "      <td>neutral</td>\n",
       "      <td>neutral</td>\n",
       "    </tr>\n",
       "    <tr>\n",
       "      <th>4</th>\n",
       "      <td>like</td>\n",
       "      <td>like</td>\n",
       "      <td>like</td>\n",
       "      <td>like</td>\n",
       "      <td>like</td>\n",
       "      <td>like</td>\n",
       "      <td>like</td>\n",
       "      <td>like</td>\n",
       "      <td>dislike</td>\n",
       "      <td>like</td>\n",
       "      <td>like</td>\n",
       "      <td>like</td>\n",
       "      <td>like</td>\n",
       "      <td>like</td>\n",
       "    </tr>\n",
       "    <tr>\n",
       "      <th>5</th>\n",
       "      <td>like</td>\n",
       "      <td>like</td>\n",
       "      <td>like</td>\n",
       "      <td>dislike</td>\n",
       "      <td>like</td>\n",
       "      <td>dislike</td>\n",
       "      <td>like</td>\n",
       "      <td>neutral</td>\n",
       "      <td>like</td>\n",
       "      <td>like</td>\n",
       "      <td>like</td>\n",
       "      <td>dislike</td>\n",
       "      <td>like</td>\n",
       "      <td>like</td>\n",
       "    </tr>\n",
       "  </tbody>\n",
       "</table>\n",
       "</div>"
      ],
      "text/plain": [
       "  Han Solo Luke Skywalker Princess Leia Organa Anakin Skywalker  \\\n",
       "1     like           like                 like             like   \n",
       "2  neutral        neutral              neutral          neutral   \n",
       "3     like           like                 like             like   \n",
       "4     like           like                 like             like   \n",
       "5     like           like                 like          dislike   \n",
       "\n",
       "  Obi Wan Kenobi Emperor Palpatine Darth Vader Lando Calrissian Boba Fett  \\\n",
       "1           like              like        like          neutral   neutral   \n",
       "2        neutral           neutral     neutral          neutral   neutral   \n",
       "3           like           neutral     neutral          neutral   neutral   \n",
       "4           like              like        like             like   dislike   \n",
       "5           like           dislike        like          neutral      like   \n",
       "\n",
       "     C-3P0    R2 D2 Jar Jar Binks Padme Amidala     Yoda  \n",
       "1     like     like          like          like     like  \n",
       "2  neutral  neutral       neutral       neutral  neutral  \n",
       "3  neutral  neutral       neutral       neutral  neutral  \n",
       "4     like     like          like          like     like  \n",
       "5     like     like       dislike          like     like  "
      ]
     },
     "execution_count": 43,
     "metadata": {},
     "output_type": "execute_result"
    }
   ],
   "source": [
    "characters.head()"
   ]
  },
  {
   "cell_type": "code",
   "execution_count": 44,
   "metadata": {
    "collapsed": false
   },
   "outputs": [
    {
     "data": {
      "text/html": [
       "<div>\n",
       "<style scoped>\n",
       "    .dataframe tbody tr th:only-of-type {\n",
       "        vertical-align: middle;\n",
       "    }\n",
       "\n",
       "    .dataframe tbody tr th {\n",
       "        vertical-align: top;\n",
       "    }\n",
       "\n",
       "    .dataframe thead th {\n",
       "        text-align: right;\n",
       "    }\n",
       "</style>\n",
       "<table border=\"1\" class=\"dataframe\">\n",
       "  <thead>\n",
       "    <tr style=\"text-align: right;\">\n",
       "      <th></th>\n",
       "      <th>variable</th>\n",
       "      <th>value</th>\n",
       "    </tr>\n",
       "  </thead>\n",
       "  <tbody>\n",
       "    <tr>\n",
       "      <th>0</th>\n",
       "      <td>Han Solo</td>\n",
       "      <td>like</td>\n",
       "    </tr>\n",
       "    <tr>\n",
       "      <th>2</th>\n",
       "      <td>Han Solo</td>\n",
       "      <td>like</td>\n",
       "    </tr>\n",
       "    <tr>\n",
       "      <th>3</th>\n",
       "      <td>Han Solo</td>\n",
       "      <td>like</td>\n",
       "    </tr>\n",
       "    <tr>\n",
       "      <th>4</th>\n",
       "      <td>Han Solo</td>\n",
       "      <td>like</td>\n",
       "    </tr>\n",
       "    <tr>\n",
       "      <th>5</th>\n",
       "      <td>Han Solo</td>\n",
       "      <td>like</td>\n",
       "    </tr>\n",
       "  </tbody>\n",
       "</table>\n",
       "</div>"
      ],
      "text/plain": [
       "   variable value\n",
       "0  Han Solo  like\n",
       "2  Han Solo  like\n",
       "3  Han Solo  like\n",
       "4  Han Solo  like\n",
       "5  Han Solo  like"
      ]
     },
     "execution_count": 44,
     "metadata": {},
     "output_type": "execute_result"
    }
   ],
   "source": [
    "# Unpivot the DataFrame characters from wide to long format\n",
    "melted = characters.melt()\n",
    "# excluding 'neutral' values\n",
    "melted = melted[melted['value']!='neutral']\n",
    "melted.head()"
   ]
  },
  {
   "cell_type": "code",
   "execution_count": 45,
   "metadata": {
    "collapsed": false
   },
   "outputs": [
    {
     "data": {
      "image/png": "[encoded data removed]",
      "text/plain": [
       "<matplotlib.figure.Figure at 0x7f094a26ff28>"
      ]
     },
     "metadata": {},
     "output_type": "display_data"
    }
   ],
   "source": [
    "# Visualisation\n",
    "import matplotlib.pyplot as plt\n",
    "from matplotlib import colors\n",
    "\n",
    "fig,ax=plt.subplots(figsize=(12,5))\n",
    "\n",
    "# keeping only the 'like' value and group by characters\n",
    "like = melted[melted['value']=='like'].groupby('variable').size()\n",
    "# keeping only the 'dislike' value and group by characters\n",
    "dislike = melted[melted['value']=='dislike'].groupby('variable').size()\n",
    "# set the x axis ticks index\n",
    "ind = np.arange(1,15) \n",
    "# set the width of bars\n",
    "width = 0.35       \n",
    "\n",
    "like_bars = ax.bar(ind - width/2, like, width,label='like',color='blue')\n",
    "dislike_bars = ax.bar(ind + width/2 , dislike, width,label='dislike',color='orange')\n",
    "# set legend\n",
    "ax.legend(loc='upper left')\n",
    "# set x axis ticks labels\n",
    "ax.set_xticks(ind + width / 2)\n",
    "ax.set_xticklabels(like.index,rotation=90)\n",
    "# ax.set_title\n",
    "ax.set_title('The most controversial character in Star Wars')\n",
    "# remove spines\n",
    "for key,spine in ax.spines.items():\n",
    "    if key in ['top','right']:\n",
    "        spine.set_visible(False)  \n",
    "# remove x,y Ticks\n",
    "ax.yaxis.set_ticks_position('none')\n",
    "ax.xaxis.set_ticks_position('none')\n",
    "# ax.tick_params(axis='x', rotation=45)\n",
    "# make colors in the barplot stand out \n",
    "for charac in characters.columns:\n",
    "    if charac not in ['Jar Jar Binks','Emperor Palpatine']:\n",
    "        pos_dislike = dislike.index.get_loc(charac)\n",
    "        pos_like = dislike.index.get_loc(charac)        \n",
    "        like_bars.patches[pos_like].set_facecolor('#888888')\n",
    "        dislike_bars.patches[pos_dislike].set_facecolor('#888888')"
   ]
  },
  {
   "cell_type": "markdown",
   "metadata": {},
   "source": [
    "It is surprising to find that 'Jar Jar Binks' is the most controversial character wich is recognized as one of the most hated characters in Star Wars !"
   ]
  },
  {
   "cell_type": "markdown",
   "metadata": {},
   "source": [
    "## Conclusion:\n",
    "In this project we have explored the Star Wars survey that was made by [FiveThirtyEight](https://fivethirtyeight.com/) team. We have found out the following:\n",
    "* In general, fans seem to prefer the original trilogy of the cinematic saga of Star Wars which consists of A New Hope (1977), The Empire Strikes Back (1980) and Return of the Jedi (1983). \n",
    "* \"Star Wars: Episode V The Empire Strikes Back\" is considered by the respondents to be the best film in the saga hence it makes it the most seen Star Wars movie by the fans.\n",
    "* Men rated the three original movies at the top of their favorite star wars films while only two of the original movies were highly rated by women, they considered \" Episode I: The Phantom Menace 1999\" more popular than \"Episode IV: A New Hope 1977\".\n",
    "* Most of the Star Wars fans who responded to the survey are located in the South Atlantic states, the East North Central, the Pacific and the Middle Atlantic.\n",
    "* 95% of the Star Wars fans who respond to the survey have more than a High school degree.\n",
    "* About half of those who consider themselves Star Wars fans are confident that Han Solo shot first in other hands 24% of respondants who consider themselves a Star Wars fans didnt understand the question.\n",
    "* About 25% of science fiction movie fans are over the age of 60.\n",
    "* 'Yoda' and 'Han Solo' are the respondents' favorite characters, in contrast 'Jar Jar Binks' is the least popular among the characters.\n",
    "* It is surprising to find that 'Jar Jar Binks' is the most controversial character wich is recognized as one of the most hated characters in Star Wars !"
   ]
  }
 ],
 "metadata": {
  "kernelspec": {
   "display_name": "Python 3",
   "language": "python",
   "name": "python3"
  },
  "language_info": {
   "codemirror_mode": {
    "name": "ipython",
    "version": 3
   },
   "file_extension": ".py",
   "mimetype": "text/x-python",
   "name": "python",
   "nbconvert_exporter": "python",
   "pygments_lexer": "ipython3",
   "version": "3.4.3"
  }
 },
 "nbformat": 4,
 "nbformat_minor": 0
}
